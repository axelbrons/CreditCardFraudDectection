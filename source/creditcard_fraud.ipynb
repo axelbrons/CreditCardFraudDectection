{
 "cells": [
  {
   "cell_type": "code",
   "execution_count": 7,
   "metadata": {
    "ExecuteTime": {
     "end_time": "2025-08-02T15:30:25.316140800Z",
     "start_time": "2025-08-02T15:30:25.294959800Z"
    }
   },
   "outputs": [],
   "source": [
    "import pandas as pd\n",
    "import matplotlib.pyplot as plt\n",
    "import seaborn as sn"
   ]
  },
  {
   "cell_type": "code",
   "execution_count": 8,
   "metadata": {
    "collapsed": false,
    "jupyter": {
     "outputs_hidden": false
    }
   },
   "outputs": [
    {
     "name": "stdout",
     "output_type": "stream",
     "text": [
      "(284807, 31)\n"
     ]
    },
    {
     "data": {
      "text/html": [
       "<div>\n",
       "<style scoped>\n",
       "    .dataframe tbody tr th:only-of-type {\n",
       "        vertical-align: middle;\n",
       "    }\n",
       "\n",
       "    .dataframe tbody tr th {\n",
       "        vertical-align: top;\n",
       "    }\n",
       "\n",
       "    .dataframe thead th {\n",
       "        text-align: right;\n",
       "    }\n",
       "</style>\n",
       "<table border=\"1\" class=\"dataframe\">\n",
       "  <thead>\n",
       "    <tr style=\"text-align: right;\">\n",
       "      <th></th>\n",
       "      <th>Time</th>\n",
       "      <th>V1</th>\n",
       "      <th>V2</th>\n",
       "      <th>V3</th>\n",
       "      <th>V4</th>\n",
       "      <th>V5</th>\n",
       "      <th>V6</th>\n",
       "      <th>V7</th>\n",
       "      <th>V8</th>\n",
       "      <th>V9</th>\n",
       "      <th>...</th>\n",
       "      <th>V21</th>\n",
       "      <th>V22</th>\n",
       "      <th>V23</th>\n",
       "      <th>V24</th>\n",
       "      <th>V25</th>\n",
       "      <th>V26</th>\n",
       "      <th>V27</th>\n",
       "      <th>V28</th>\n",
       "      <th>Amount</th>\n",
       "      <th>Class</th>\n",
       "    </tr>\n",
       "  </thead>\n",
       "  <tbody>\n",
       "    <tr>\n",
       "      <th>0</th>\n",
       "      <td>0.0</td>\n",
       "      <td>-1.359807</td>\n",
       "      <td>-0.072781</td>\n",
       "      <td>2.536347</td>\n",
       "      <td>1.378155</td>\n",
       "      <td>-0.338321</td>\n",
       "      <td>0.462388</td>\n",
       "      <td>0.239599</td>\n",
       "      <td>0.098698</td>\n",
       "      <td>0.363787</td>\n",
       "      <td>...</td>\n",
       "      <td>-0.018307</td>\n",
       "      <td>0.277838</td>\n",
       "      <td>-0.110474</td>\n",
       "      <td>0.066928</td>\n",
       "      <td>0.128539</td>\n",
       "      <td>-0.189115</td>\n",
       "      <td>0.133558</td>\n",
       "      <td>-0.021053</td>\n",
       "      <td>149.62</td>\n",
       "      <td>0</td>\n",
       "    </tr>\n",
       "    <tr>\n",
       "      <th>1</th>\n",
       "      <td>0.0</td>\n",
       "      <td>1.191857</td>\n",
       "      <td>0.266151</td>\n",
       "      <td>0.166480</td>\n",
       "      <td>0.448154</td>\n",
       "      <td>0.060018</td>\n",
       "      <td>-0.082361</td>\n",
       "      <td>-0.078803</td>\n",
       "      <td>0.085102</td>\n",
       "      <td>-0.255425</td>\n",
       "      <td>...</td>\n",
       "      <td>-0.225775</td>\n",
       "      <td>-0.638672</td>\n",
       "      <td>0.101288</td>\n",
       "      <td>-0.339846</td>\n",
       "      <td>0.167170</td>\n",
       "      <td>0.125895</td>\n",
       "      <td>-0.008983</td>\n",
       "      <td>0.014724</td>\n",
       "      <td>2.69</td>\n",
       "      <td>0</td>\n",
       "    </tr>\n",
       "    <tr>\n",
       "      <th>2</th>\n",
       "      <td>1.0</td>\n",
       "      <td>-1.358354</td>\n",
       "      <td>-1.340163</td>\n",
       "      <td>1.773209</td>\n",
       "      <td>0.379780</td>\n",
       "      <td>-0.503198</td>\n",
       "      <td>1.800499</td>\n",
       "      <td>0.791461</td>\n",
       "      <td>0.247676</td>\n",
       "      <td>-1.514654</td>\n",
       "      <td>...</td>\n",
       "      <td>0.247998</td>\n",
       "      <td>0.771679</td>\n",
       "      <td>0.909412</td>\n",
       "      <td>-0.689281</td>\n",
       "      <td>-0.327642</td>\n",
       "      <td>-0.139097</td>\n",
       "      <td>-0.055353</td>\n",
       "      <td>-0.059752</td>\n",
       "      <td>378.66</td>\n",
       "      <td>0</td>\n",
       "    </tr>\n",
       "    <tr>\n",
       "      <th>3</th>\n",
       "      <td>1.0</td>\n",
       "      <td>-0.966272</td>\n",
       "      <td>-0.185226</td>\n",
       "      <td>1.792993</td>\n",
       "      <td>-0.863291</td>\n",
       "      <td>-0.010309</td>\n",
       "      <td>1.247203</td>\n",
       "      <td>0.237609</td>\n",
       "      <td>0.377436</td>\n",
       "      <td>-1.387024</td>\n",
       "      <td>...</td>\n",
       "      <td>-0.108300</td>\n",
       "      <td>0.005274</td>\n",
       "      <td>-0.190321</td>\n",
       "      <td>-1.175575</td>\n",
       "      <td>0.647376</td>\n",
       "      <td>-0.221929</td>\n",
       "      <td>0.062723</td>\n",
       "      <td>0.061458</td>\n",
       "      <td>123.50</td>\n",
       "      <td>0</td>\n",
       "    </tr>\n",
       "    <tr>\n",
       "      <th>4</th>\n",
       "      <td>2.0</td>\n",
       "      <td>-1.158233</td>\n",
       "      <td>0.877737</td>\n",
       "      <td>1.548718</td>\n",
       "      <td>0.403034</td>\n",
       "      <td>-0.407193</td>\n",
       "      <td>0.095921</td>\n",
       "      <td>0.592941</td>\n",
       "      <td>-0.270533</td>\n",
       "      <td>0.817739</td>\n",
       "      <td>...</td>\n",
       "      <td>-0.009431</td>\n",
       "      <td>0.798278</td>\n",
       "      <td>-0.137458</td>\n",
       "      <td>0.141267</td>\n",
       "      <td>-0.206010</td>\n",
       "      <td>0.502292</td>\n",
       "      <td>0.219422</td>\n",
       "      <td>0.215153</td>\n",
       "      <td>69.99</td>\n",
       "      <td>0</td>\n",
       "    </tr>\n",
       "    <tr>\n",
       "      <th>5</th>\n",
       "      <td>2.0</td>\n",
       "      <td>-0.425966</td>\n",
       "      <td>0.960523</td>\n",
       "      <td>1.141109</td>\n",
       "      <td>-0.168252</td>\n",
       "      <td>0.420987</td>\n",
       "      <td>-0.029728</td>\n",
       "      <td>0.476201</td>\n",
       "      <td>0.260314</td>\n",
       "      <td>-0.568671</td>\n",
       "      <td>...</td>\n",
       "      <td>-0.208254</td>\n",
       "      <td>-0.559825</td>\n",
       "      <td>-0.026398</td>\n",
       "      <td>-0.371427</td>\n",
       "      <td>-0.232794</td>\n",
       "      <td>0.105915</td>\n",
       "      <td>0.253844</td>\n",
       "      <td>0.081080</td>\n",
       "      <td>3.67</td>\n",
       "      <td>0</td>\n",
       "    </tr>\n",
       "    <tr>\n",
       "      <th>6</th>\n",
       "      <td>4.0</td>\n",
       "      <td>1.229658</td>\n",
       "      <td>0.141004</td>\n",
       "      <td>0.045371</td>\n",
       "      <td>1.202613</td>\n",
       "      <td>0.191881</td>\n",
       "      <td>0.272708</td>\n",
       "      <td>-0.005159</td>\n",
       "      <td>0.081213</td>\n",
       "      <td>0.464960</td>\n",
       "      <td>...</td>\n",
       "      <td>-0.167716</td>\n",
       "      <td>-0.270710</td>\n",
       "      <td>-0.154104</td>\n",
       "      <td>-0.780055</td>\n",
       "      <td>0.750137</td>\n",
       "      <td>-0.257237</td>\n",
       "      <td>0.034507</td>\n",
       "      <td>0.005168</td>\n",
       "      <td>4.99</td>\n",
       "      <td>0</td>\n",
       "    </tr>\n",
       "    <tr>\n",
       "      <th>7</th>\n",
       "      <td>7.0</td>\n",
       "      <td>-0.644269</td>\n",
       "      <td>1.417964</td>\n",
       "      <td>1.074380</td>\n",
       "      <td>-0.492199</td>\n",
       "      <td>0.948934</td>\n",
       "      <td>0.428118</td>\n",
       "      <td>1.120631</td>\n",
       "      <td>-3.807864</td>\n",
       "      <td>0.615375</td>\n",
       "      <td>...</td>\n",
       "      <td>1.943465</td>\n",
       "      <td>-1.015455</td>\n",
       "      <td>0.057504</td>\n",
       "      <td>-0.649709</td>\n",
       "      <td>-0.415267</td>\n",
       "      <td>-0.051634</td>\n",
       "      <td>-1.206921</td>\n",
       "      <td>-1.085339</td>\n",
       "      <td>40.80</td>\n",
       "      <td>0</td>\n",
       "    </tr>\n",
       "    <tr>\n",
       "      <th>8</th>\n",
       "      <td>7.0</td>\n",
       "      <td>-0.894286</td>\n",
       "      <td>0.286157</td>\n",
       "      <td>-0.113192</td>\n",
       "      <td>-0.271526</td>\n",
       "      <td>2.669599</td>\n",
       "      <td>3.721818</td>\n",
       "      <td>0.370145</td>\n",
       "      <td>0.851084</td>\n",
       "      <td>-0.392048</td>\n",
       "      <td>...</td>\n",
       "      <td>-0.073425</td>\n",
       "      <td>-0.268092</td>\n",
       "      <td>-0.204233</td>\n",
       "      <td>1.011592</td>\n",
       "      <td>0.373205</td>\n",
       "      <td>-0.384157</td>\n",
       "      <td>0.011747</td>\n",
       "      <td>0.142404</td>\n",
       "      <td>93.20</td>\n",
       "      <td>0</td>\n",
       "    </tr>\n",
       "    <tr>\n",
       "      <th>9</th>\n",
       "      <td>9.0</td>\n",
       "      <td>-0.338262</td>\n",
       "      <td>1.119593</td>\n",
       "      <td>1.044367</td>\n",
       "      <td>-0.222187</td>\n",
       "      <td>0.499361</td>\n",
       "      <td>-0.246761</td>\n",
       "      <td>0.651583</td>\n",
       "      <td>0.069539</td>\n",
       "      <td>-0.736727</td>\n",
       "      <td>...</td>\n",
       "      <td>-0.246914</td>\n",
       "      <td>-0.633753</td>\n",
       "      <td>-0.120794</td>\n",
       "      <td>-0.385050</td>\n",
       "      <td>-0.069733</td>\n",
       "      <td>0.094199</td>\n",
       "      <td>0.246219</td>\n",
       "      <td>0.083076</td>\n",
       "      <td>3.68</td>\n",
       "      <td>0</td>\n",
       "    </tr>\n",
       "  </tbody>\n",
       "</table>\n",
       "<p>10 rows × 31 columns</p>\n",
       "</div>"
      ],
      "text/plain": [
       "   Time        V1        V2        V3        V4        V5        V6        V7  \\\n",
       "0   0.0 -1.359807 -0.072781  2.536347  1.378155 -0.338321  0.462388  0.239599   \n",
       "1   0.0  1.191857  0.266151  0.166480  0.448154  0.060018 -0.082361 -0.078803   \n",
       "2   1.0 -1.358354 -1.340163  1.773209  0.379780 -0.503198  1.800499  0.791461   \n",
       "3   1.0 -0.966272 -0.185226  1.792993 -0.863291 -0.010309  1.247203  0.237609   \n",
       "4   2.0 -1.158233  0.877737  1.548718  0.403034 -0.407193  0.095921  0.592941   \n",
       "5   2.0 -0.425966  0.960523  1.141109 -0.168252  0.420987 -0.029728  0.476201   \n",
       "6   4.0  1.229658  0.141004  0.045371  1.202613  0.191881  0.272708 -0.005159   \n",
       "7   7.0 -0.644269  1.417964  1.074380 -0.492199  0.948934  0.428118  1.120631   \n",
       "8   7.0 -0.894286  0.286157 -0.113192 -0.271526  2.669599  3.721818  0.370145   \n",
       "9   9.0 -0.338262  1.119593  1.044367 -0.222187  0.499361 -0.246761  0.651583   \n",
       "\n",
       "         V8        V9  ...       V21       V22       V23       V24       V25  \\\n",
       "0  0.098698  0.363787  ... -0.018307  0.277838 -0.110474  0.066928  0.128539   \n",
       "1  0.085102 -0.255425  ... -0.225775 -0.638672  0.101288 -0.339846  0.167170   \n",
       "2  0.247676 -1.514654  ...  0.247998  0.771679  0.909412 -0.689281 -0.327642   \n",
       "3  0.377436 -1.387024  ... -0.108300  0.005274 -0.190321 -1.175575  0.647376   \n",
       "4 -0.270533  0.817739  ... -0.009431  0.798278 -0.137458  0.141267 -0.206010   \n",
       "5  0.260314 -0.568671  ... -0.208254 -0.559825 -0.026398 -0.371427 -0.232794   \n",
       "6  0.081213  0.464960  ... -0.167716 -0.270710 -0.154104 -0.780055  0.750137   \n",
       "7 -3.807864  0.615375  ...  1.943465 -1.015455  0.057504 -0.649709 -0.415267   \n",
       "8  0.851084 -0.392048  ... -0.073425 -0.268092 -0.204233  1.011592  0.373205   \n",
       "9  0.069539 -0.736727  ... -0.246914 -0.633753 -0.120794 -0.385050 -0.069733   \n",
       "\n",
       "        V26       V27       V28  Amount  Class  \n",
       "0 -0.189115  0.133558 -0.021053  149.62      0  \n",
       "1  0.125895 -0.008983  0.014724    2.69      0  \n",
       "2 -0.139097 -0.055353 -0.059752  378.66      0  \n",
       "3 -0.221929  0.062723  0.061458  123.50      0  \n",
       "4  0.502292  0.219422  0.215153   69.99      0  \n",
       "5  0.105915  0.253844  0.081080    3.67      0  \n",
       "6 -0.257237  0.034507  0.005168    4.99      0  \n",
       "7 -0.051634 -1.206921 -1.085339   40.80      0  \n",
       "8 -0.384157  0.011747  0.142404   93.20      0  \n",
       "9  0.094199  0.246219  0.083076    3.68      0  \n",
       "\n",
       "[10 rows x 31 columns]"
      ]
     },
     "execution_count": 8,
     "metadata": {},
     "output_type": "execute_result"
    }
   ],
   "source": [
    "df = pd.read_csv(\"creditcard.csv\")\n",
    "#df.info\n",
    "df_without_na = df.dropna()\n",
    "df_without_duplicate = df.drop_duplicates()\n",
    "print(df.shape)\n",
    "df.head(10)"
   ]
  },
  {
   "cell_type": "code",
   "execution_count": 9,
   "metadata": {
    "collapsed": false,
    "jupyter": {
     "outputs_hidden": false
    }
   },
   "outputs": [
    {
     "data": {
      "text/html": [
       "<div>\n",
       "<style scoped>\n",
       "    .dataframe tbody tr th:only-of-type {\n",
       "        vertical-align: middle;\n",
       "    }\n",
       "\n",
       "    .dataframe tbody tr th {\n",
       "        vertical-align: top;\n",
       "    }\n",
       "\n",
       "    .dataframe thead th {\n",
       "        text-align: right;\n",
       "    }\n",
       "</style>\n",
       "<table border=\"1\" class=\"dataframe\">\n",
       "  <thead>\n",
       "    <tr style=\"text-align: right;\">\n",
       "      <th></th>\n",
       "      <th>Time</th>\n",
       "      <th>Amount</th>\n",
       "      <th>Class</th>\n",
       "    </tr>\n",
       "  </thead>\n",
       "  <tbody>\n",
       "    <tr>\n",
       "      <th>0</th>\n",
       "      <td>0.0</td>\n",
       "      <td>149.62</td>\n",
       "      <td>0</td>\n",
       "    </tr>\n",
       "    <tr>\n",
       "      <th>1</th>\n",
       "      <td>0.0</td>\n",
       "      <td>2.69</td>\n",
       "      <td>0</td>\n",
       "    </tr>\n",
       "    <tr>\n",
       "      <th>2</th>\n",
       "      <td>1.0</td>\n",
       "      <td>378.66</td>\n",
       "      <td>0</td>\n",
       "    </tr>\n",
       "    <tr>\n",
       "      <th>3</th>\n",
       "      <td>1.0</td>\n",
       "      <td>123.50</td>\n",
       "      <td>0</td>\n",
       "    </tr>\n",
       "    <tr>\n",
       "      <th>4</th>\n",
       "      <td>2.0</td>\n",
       "      <td>69.99</td>\n",
       "      <td>0</td>\n",
       "    </tr>\n",
       "    <tr>\n",
       "      <th>5</th>\n",
       "      <td>2.0</td>\n",
       "      <td>3.67</td>\n",
       "      <td>0</td>\n",
       "    </tr>\n",
       "    <tr>\n",
       "      <th>6</th>\n",
       "      <td>4.0</td>\n",
       "      <td>4.99</td>\n",
       "      <td>0</td>\n",
       "    </tr>\n",
       "    <tr>\n",
       "      <th>7</th>\n",
       "      <td>7.0</td>\n",
       "      <td>40.80</td>\n",
       "      <td>0</td>\n",
       "    </tr>\n",
       "    <tr>\n",
       "      <th>8</th>\n",
       "      <td>7.0</td>\n",
       "      <td>93.20</td>\n",
       "      <td>0</td>\n",
       "    </tr>\n",
       "    <tr>\n",
       "      <th>9</th>\n",
       "      <td>9.0</td>\n",
       "      <td>3.68</td>\n",
       "      <td>0</td>\n",
       "    </tr>\n",
       "  </tbody>\n",
       "</table>\n",
       "</div>"
      ],
      "text/plain": [
       "   Time  Amount  Class\n",
       "0   0.0  149.62      0\n",
       "1   0.0    2.69      0\n",
       "2   1.0  378.66      0\n",
       "3   1.0  123.50      0\n",
       "4   2.0   69.99      0\n",
       "5   2.0    3.67      0\n",
       "6   4.0    4.99      0\n",
       "7   7.0   40.80      0\n",
       "8   7.0   93.20      0\n",
       "9   9.0    3.68      0"
      ]
     },
     "execution_count": 9,
     "metadata": {},
     "output_type": "execute_result"
    }
   ],
   "source": [
    "df_without_v = df[[\"Time\", \"Amount\", \"Class\"]]\n",
    "df_without_v.head(10)\n",
    "#df_without_v.info"
   ]
  },
  {
   "cell_type": "code",
   "execution_count": 10,
   "metadata": {
    "collapsed": false,
    "jupyter": {
     "outputs_hidden": false
    }
   },
   "outputs": [
    {
     "data": {
      "text/plain": [
       "<seaborn.axisgrid.PairGrid at 0x24e829eae70>"
      ]
     },
     "execution_count": 10,
     "metadata": {},
     "output_type": "execute_result"
    },
    {
     "data": {
      "image/png": "[encoded data removed]",
      "text/plain": [
       "<Figure size 558.875x500 with 6 Axes>"
      ]
     },
     "metadata": {},
     "output_type": "display_data"
    }
   ],
   "source": [
    "sn.pairplot(df_without_v, hue='Class')"
   ]
  },
  {
   "cell_type": "code",
   "execution_count": 11,
   "metadata": {
    "collapsed": false,
    "jupyter": {
     "outputs_hidden": false
    }
   },
   "outputs": [
    {
     "data": {
      "image/png": "[encoded data removed]",
      "text/plain": [
       "<Figure size 640x480 with 1 Axes>"
      ]
     },
     "metadata": {},
     "output_type": "display_data"
    }
   ],
   "source": [
    "plt.scatter(df_without_v[\"Time\"],df_without_v[\"Amount\"])\n",
    "plt.show()"
   ]
  },
  {
   "cell_type": "code",
   "execution_count": 12,
   "metadata": {
    "collapsed": false,
    "jupyter": {
     "outputs_hidden": false
    }
   },
   "outputs": [
    {
     "data": {
      "image/png": "[encoded data removed]",
      "text/plain": [
       "<Figure size 640x480 with 1 Axes>"
      ]
     },
     "metadata": {},
     "output_type": "display_data"
    }
   ],
   "source": [
    "#plt.scatter(df[\"Time\"], df[\"Amount\"], color='blue', label='Non-fraud')\n",
    "df_class_1 = df[df['Class'] == 1]\n",
    "plt.scatter(df_class_1[\"Time\"],df_class_1[\"Amount\"], color='red', label='Fraud')\n",
    "plt.xlabel('Time')\n",
    "plt.ylabel('Amount')\n",
    "plt.legend()\n",
    "plt.show()"
   ]
  },
  {
   "cell_type": "code",
   "execution_count": 13,
   "metadata": {
    "collapsed": false,
    "jupyter": {
     "outputs_hidden": false
    }
   },
   "outputs": [
    {
     "data": {
      "image/png": "[encoded data removed]",
      "text/plain": [
       "<Figure size 640x480 with 1 Axes>"
      ]
     },
     "metadata": {},
     "output_type": "display_data"
    }
   ],
   "source": [
    "df_class_1 = df[df['Class'] == 1]\n",
    "df_class_0 = df[df['Class'] == 0]\n",
    "plt.scatter(df_class_0[\"Time\"],df_class_0[\"Amount\"], color='blue', label='Non-Fraud')\n",
    "plt.scatter(df_class_1[\"Time\"],df_class_1[\"Amount\"], color='red', label='Fraud')\n",
    "plt.xlabel('Time')\n",
    "plt.ylabel('Amount')\n",
    "plt.legend()\n",
    "plt.show()"
   ]
  },
  {
   "cell_type": "markdown",
   "metadata": {
    "collapsed": false,
    "jupyter": {
     "outputs_hidden": false
    }
   },
   "source": [
    "First, we can see with simple EDA, there are outliners that we can't really delete, the dataset is really unbalanced and we can't really know what is inside the V column."
   ]
  },
  {
   "cell_type": "code",
   "execution_count": 14,
   "metadata": {
    "collapsed": false,
    "jupyter": {
     "outputs_hidden": false
    }
   },
   "outputs": [
    {
     "data": {
      "text/html": [
       "<div>\n",
       "<style scoped>\n",
       "    .dataframe tbody tr th:only-of-type {\n",
       "        vertical-align: middle;\n",
       "    }\n",
       "\n",
       "    .dataframe tbody tr th {\n",
       "        vertical-align: top;\n",
       "    }\n",
       "\n",
       "    .dataframe thead th {\n",
       "        text-align: right;\n",
       "    }\n",
       "</style>\n",
       "<table border=\"1\" class=\"dataframe\">\n",
       "  <thead>\n",
       "    <tr style=\"text-align: right;\">\n",
       "      <th></th>\n",
       "      <th>Time</th>\n",
       "      <th>Amount</th>\n",
       "      <th>Class</th>\n",
       "      <th>V1</th>\n",
       "      <th>V2</th>\n",
       "      <th>V3</th>\n",
       "      <th>V4</th>\n",
       "      <th>V5</th>\n",
       "      <th>V6</th>\n",
       "    </tr>\n",
       "  </thead>\n",
       "  <tbody>\n",
       "    <tr>\n",
       "      <th>0</th>\n",
       "      <td>0.0</td>\n",
       "      <td>149.62</td>\n",
       "      <td>0</td>\n",
       "      <td>-1.359807</td>\n",
       "      <td>-0.072781</td>\n",
       "      <td>2.536347</td>\n",
       "      <td>1.378155</td>\n",
       "      <td>-0.338321</td>\n",
       "      <td>0.462388</td>\n",
       "    </tr>\n",
       "    <tr>\n",
       "      <th>1</th>\n",
       "      <td>0.0</td>\n",
       "      <td>2.69</td>\n",
       "      <td>0</td>\n",
       "      <td>1.191857</td>\n",
       "      <td>0.266151</td>\n",
       "      <td>0.166480</td>\n",
       "      <td>0.448154</td>\n",
       "      <td>0.060018</td>\n",
       "      <td>-0.082361</td>\n",
       "    </tr>\n",
       "    <tr>\n",
       "      <th>2</th>\n",
       "      <td>1.0</td>\n",
       "      <td>378.66</td>\n",
       "      <td>0</td>\n",
       "      <td>-1.358354</td>\n",
       "      <td>-1.340163</td>\n",
       "      <td>1.773209</td>\n",
       "      <td>0.379780</td>\n",
       "      <td>-0.503198</td>\n",
       "      <td>1.800499</td>\n",
       "    </tr>\n",
       "    <tr>\n",
       "      <th>3</th>\n",
       "      <td>1.0</td>\n",
       "      <td>123.50</td>\n",
       "      <td>0</td>\n",
       "      <td>-0.966272</td>\n",
       "      <td>-0.185226</td>\n",
       "      <td>1.792993</td>\n",
       "      <td>-0.863291</td>\n",
       "      <td>-0.010309</td>\n",
       "      <td>1.247203</td>\n",
       "    </tr>\n",
       "    <tr>\n",
       "      <th>4</th>\n",
       "      <td>2.0</td>\n",
       "      <td>69.99</td>\n",
       "      <td>0</td>\n",
       "      <td>-1.158233</td>\n",
       "      <td>0.877737</td>\n",
       "      <td>1.548718</td>\n",
       "      <td>0.403034</td>\n",
       "      <td>-0.407193</td>\n",
       "      <td>0.095921</td>\n",
       "    </tr>\n",
       "    <tr>\n",
       "      <th>5</th>\n",
       "      <td>2.0</td>\n",
       "      <td>3.67</td>\n",
       "      <td>0</td>\n",
       "      <td>-0.425966</td>\n",
       "      <td>0.960523</td>\n",
       "      <td>1.141109</td>\n",
       "      <td>-0.168252</td>\n",
       "      <td>0.420987</td>\n",
       "      <td>-0.029728</td>\n",
       "    </tr>\n",
       "    <tr>\n",
       "      <th>6</th>\n",
       "      <td>4.0</td>\n",
       "      <td>4.99</td>\n",
       "      <td>0</td>\n",
       "      <td>1.229658</td>\n",
       "      <td>0.141004</td>\n",
       "      <td>0.045371</td>\n",
       "      <td>1.202613</td>\n",
       "      <td>0.191881</td>\n",
       "      <td>0.272708</td>\n",
       "    </tr>\n",
       "    <tr>\n",
       "      <th>7</th>\n",
       "      <td>7.0</td>\n",
       "      <td>40.80</td>\n",
       "      <td>0</td>\n",
       "      <td>-0.644269</td>\n",
       "      <td>1.417964</td>\n",
       "      <td>1.074380</td>\n",
       "      <td>-0.492199</td>\n",
       "      <td>0.948934</td>\n",
       "      <td>0.428118</td>\n",
       "    </tr>\n",
       "    <tr>\n",
       "      <th>8</th>\n",
       "      <td>7.0</td>\n",
       "      <td>93.20</td>\n",
       "      <td>0</td>\n",
       "      <td>-0.894286</td>\n",
       "      <td>0.286157</td>\n",
       "      <td>-0.113192</td>\n",
       "      <td>-0.271526</td>\n",
       "      <td>2.669599</td>\n",
       "      <td>3.721818</td>\n",
       "    </tr>\n",
       "    <tr>\n",
       "      <th>9</th>\n",
       "      <td>9.0</td>\n",
       "      <td>3.68</td>\n",
       "      <td>0</td>\n",
       "      <td>-0.338262</td>\n",
       "      <td>1.119593</td>\n",
       "      <td>1.044367</td>\n",
       "      <td>-0.222187</td>\n",
       "      <td>0.499361</td>\n",
       "      <td>-0.246761</td>\n",
       "    </tr>\n",
       "  </tbody>\n",
       "</table>\n",
       "</div>"
      ],
      "text/plain": [
       "   Time  Amount  Class        V1        V2        V3        V4        V5  \\\n",
       "0   0.0  149.62      0 -1.359807 -0.072781  2.536347  1.378155 -0.338321   \n",
       "1   0.0    2.69      0  1.191857  0.266151  0.166480  0.448154  0.060018   \n",
       "2   1.0  378.66      0 -1.358354 -1.340163  1.773209  0.379780 -0.503198   \n",
       "3   1.0  123.50      0 -0.966272 -0.185226  1.792993 -0.863291 -0.010309   \n",
       "4   2.0   69.99      0 -1.158233  0.877737  1.548718  0.403034 -0.407193   \n",
       "5   2.0    3.67      0 -0.425966  0.960523  1.141109 -0.168252  0.420987   \n",
       "6   4.0    4.99      0  1.229658  0.141004  0.045371  1.202613  0.191881   \n",
       "7   7.0   40.80      0 -0.644269  1.417964  1.074380 -0.492199  0.948934   \n",
       "8   7.0   93.20      0 -0.894286  0.286157 -0.113192 -0.271526  2.669599   \n",
       "9   9.0    3.68      0 -0.338262  1.119593  1.044367 -0.222187  0.499361   \n",
       "\n",
       "         V6  \n",
       "0  0.462388  \n",
       "1 -0.082361  \n",
       "2  1.800499  \n",
       "3  1.247203  \n",
       "4  0.095921  \n",
       "5 -0.029728  \n",
       "6  0.272708  \n",
       "7  0.428118  \n",
       "8  3.721818  \n",
       "9 -0.246761  "
      ]
     },
     "execution_count": 14,
     "metadata": {},
     "output_type": "execute_result"
    }
   ],
   "source": [
    "df_with_6v = df[[\"Time\", \"Amount\", \"Class\",\"V1\",\"V2\",\"V3\",\"V4\",\"V5\",\"V6\"]]\n",
    "df_with_6v.head(10)"
   ]
  },
  {
   "cell_type": "code",
   "execution_count": 15,
   "metadata": {
    "collapsed": false,
    "jupyter": {
     "outputs_hidden": false
    }
   },
   "outputs": [
    {
     "data": {
      "text/plain": [
       "<Axes: >"
      ]
     },
     "execution_count": 15,
     "metadata": {},
     "output_type": "execute_result"
    },
    {
     "data": {
      "image/png": "[encoded data removed]",
      "text/plain": [
       "<Figure size 640x480 with 2 Axes>"
      ]
     },
     "metadata": {},
     "output_type": "display_data"
    }
   ],
   "source": [
    "corr = df.corr(numeric_only=True)\n",
    "sn.heatmap(corr, cmap='coolwarm')"
   ]
  },
  {
   "cell_type": "code",
   "execution_count": 16,
   "metadata": {
    "collapsed": false,
    "jupyter": {
     "outputs_hidden": false
    }
   },
   "outputs": [
    {
     "data": {
      "text/plain": [
       "<Axes: >"
      ]
     },
     "execution_count": 16,
     "metadata": {},
     "output_type": "execute_result"
    },
    {
     "data": {
      "image/png": "[encoded data removed]",
      "text/plain": [
       "<Figure size 640x480 with 2 Axes>"
      ]
     },
     "metadata": {},
     "output_type": "display_data"
    }
   ],
   "source": [
    "corr = df_with_6v.corr(numeric_only=True)\n",
    "sn.heatmap(corr, cmap='coolwarm')"
   ]
  },
  {
   "cell_type": "code",
   "execution_count": 17,
   "metadata": {
    "ExecuteTime": {
     "end_time": "2025-08-02T15:31:07.652640600Z",
     "start_time": "2025-08-02T15:31:07.632922Z"
    },
    "collapsed": false,
    "jupyter": {
     "outputs_hidden": false
    }
   },
   "outputs": [
    {
     "name": "stdout",
     "output_type": "stream",
     "text": [
      "492\n",
      "(284807,)\n"
     ]
    }
   ],
   "source": [
    "X = df.drop(\"Class\",axis=1)\n",
    "y = df[\"Class\"]\n",
    "print((y==1).sum())\n",
    "print(y.shape)"
   ]
  },
  {
   "cell_type": "code",
   "execution_count": 32,
   "metadata": {
    "ExecuteTime": {
     "end_time": "2025-08-02T15:31:12.397684500Z",
     "start_time": "2025-08-02T15:31:07.652640600Z"
    },
    "collapsed": false,
    "jupyter": {
     "outputs_hidden": false
    }
   },
   "outputs": [],
   "source": [
    "from sklearn.preprocessing import RobustScaler,StandardScaler\n",
    "from sklearn.feature_selection import chi2, SelectKBest, f_classif, f_regression, mutual_info_classif, mutual_info_regression, SelectFromModel, RFE, RFECV\n",
    "from sklearn.linear_model import SGDClassifier\n",
    "from sklearn.ensemble import RandomForestClassifier, GradientBoostingClassifier, AdaBoostClassifier, BaggingClassifier, RandomForestRegressor, HistGradientBoostingClassifier\n",
    "from sklearn.linear_model import LogisticRegression\n",
    "from sklearn.model_selection import train_test_split, RandomizedSearchCV\n",
    "from sklearn.impute import SimpleImputer\n",
    "from sklearn.pipeline import make_pipeline, Pipeline\n",
    "from sklearn.model_selection import cross_validate, cross_val_score, cross_val_predict, StratifiedKFold, GridSearchCV, RandomizedSearchCV\n",
    "from sklearn.compose import ColumnTransformer\n",
    "from xgboost import XGBClassifier, XGBRegressor\n",
    "from lightgbm import LGBMClassifier\n",
    "from sklearn.metrics import accuracy_score, recall_score, f1_score, roc_auc_score, precision_score, classification_report, average_precision_score\n",
    "from sklearn.tree import DecisionTreeClassifier\n",
    "from sklearn.utils import shuffle\n",
    "from catboost import CatBoostClassifier\n",
    "from scipy.stats import randint, uniform\n",
    "import optuna\n",
    "import tqdm as notebook_tqdm"
   ]
  },
  {
   "cell_type": "code",
   "execution_count": null,
   "metadata": {},
   "outputs": [],
   "source": [
    "# RobustScaler is less prone to outliers.\n",
    "\n",
    "std_scaler = StandardScaler()\n",
    "rob_scaler = RobustScaler()\n",
    "\n",
    "df['scaled_amount'] = rob_scaler.fit_transform(df['Amount'].values.reshape(-1,1))\n",
    "df['scaled_time'] = rob_scaler.fit_transform(df['Time'].values.reshape(-1,1))\n",
    "\n",
    "df.drop(['Time','Amount'], axis=1, inplace=True)\n"
   ]
  },
  {
   "cell_type": "code",
   "execution_count": 36,
   "metadata": {},
   "outputs": [
    {
     "data": {
      "text/html": [
       "<div>\n",
       "<style scoped>\n",
       "    .dataframe tbody tr th:only-of-type {\n",
       "        vertical-align: middle;\n",
       "    }\n",
       "\n",
       "    .dataframe tbody tr th {\n",
       "        vertical-align: top;\n",
       "    }\n",
       "\n",
       "    .dataframe thead th {\n",
       "        text-align: right;\n",
       "    }\n",
       "</style>\n",
       "<table border=\"1\" class=\"dataframe\">\n",
       "  <thead>\n",
       "    <tr style=\"text-align: right;\">\n",
       "      <th></th>\n",
       "      <th>V1</th>\n",
       "      <th>V2</th>\n",
       "      <th>V3</th>\n",
       "      <th>V4</th>\n",
       "      <th>V5</th>\n",
       "      <th>V6</th>\n",
       "      <th>V7</th>\n",
       "      <th>V8</th>\n",
       "      <th>V9</th>\n",
       "      <th>V10</th>\n",
       "      <th>...</th>\n",
       "      <th>V22</th>\n",
       "      <th>V23</th>\n",
       "      <th>V24</th>\n",
       "      <th>V25</th>\n",
       "      <th>V26</th>\n",
       "      <th>V27</th>\n",
       "      <th>V28</th>\n",
       "      <th>Class</th>\n",
       "      <th>scaled_amount</th>\n",
       "      <th>scaled_time</th>\n",
       "    </tr>\n",
       "  </thead>\n",
       "  <tbody>\n",
       "    <tr>\n",
       "      <th>0</th>\n",
       "      <td>-1.359807</td>\n",
       "      <td>-0.072781</td>\n",
       "      <td>2.536347</td>\n",
       "      <td>1.378155</td>\n",
       "      <td>-0.338321</td>\n",
       "      <td>0.462388</td>\n",
       "      <td>0.239599</td>\n",
       "      <td>0.098698</td>\n",
       "      <td>0.363787</td>\n",
       "      <td>0.090794</td>\n",
       "      <td>...</td>\n",
       "      <td>0.277838</td>\n",
       "      <td>-0.110474</td>\n",
       "      <td>0.066928</td>\n",
       "      <td>0.128539</td>\n",
       "      <td>-0.189115</td>\n",
       "      <td>0.133558</td>\n",
       "      <td>-0.021053</td>\n",
       "      <td>0</td>\n",
       "      <td>1.783274</td>\n",
       "      <td>-0.994983</td>\n",
       "    </tr>\n",
       "    <tr>\n",
       "      <th>1</th>\n",
       "      <td>1.191857</td>\n",
       "      <td>0.266151</td>\n",
       "      <td>0.166480</td>\n",
       "      <td>0.448154</td>\n",
       "      <td>0.060018</td>\n",
       "      <td>-0.082361</td>\n",
       "      <td>-0.078803</td>\n",
       "      <td>0.085102</td>\n",
       "      <td>-0.255425</td>\n",
       "      <td>-0.166974</td>\n",
       "      <td>...</td>\n",
       "      <td>-0.638672</td>\n",
       "      <td>0.101288</td>\n",
       "      <td>-0.339846</td>\n",
       "      <td>0.167170</td>\n",
       "      <td>0.125895</td>\n",
       "      <td>-0.008983</td>\n",
       "      <td>0.014724</td>\n",
       "      <td>0</td>\n",
       "      <td>-0.269825</td>\n",
       "      <td>-0.994983</td>\n",
       "    </tr>\n",
       "    <tr>\n",
       "      <th>2</th>\n",
       "      <td>-1.358354</td>\n",
       "      <td>-1.340163</td>\n",
       "      <td>1.773209</td>\n",
       "      <td>0.379780</td>\n",
       "      <td>-0.503198</td>\n",
       "      <td>1.800499</td>\n",
       "      <td>0.791461</td>\n",
       "      <td>0.247676</td>\n",
       "      <td>-1.514654</td>\n",
       "      <td>0.207643</td>\n",
       "      <td>...</td>\n",
       "      <td>0.771679</td>\n",
       "      <td>0.909412</td>\n",
       "      <td>-0.689281</td>\n",
       "      <td>-0.327642</td>\n",
       "      <td>-0.139097</td>\n",
       "      <td>-0.055353</td>\n",
       "      <td>-0.059752</td>\n",
       "      <td>0</td>\n",
       "      <td>4.983721</td>\n",
       "      <td>-0.994972</td>\n",
       "    </tr>\n",
       "    <tr>\n",
       "      <th>3</th>\n",
       "      <td>-0.966272</td>\n",
       "      <td>-0.185226</td>\n",
       "      <td>1.792993</td>\n",
       "      <td>-0.863291</td>\n",
       "      <td>-0.010309</td>\n",
       "      <td>1.247203</td>\n",
       "      <td>0.237609</td>\n",
       "      <td>0.377436</td>\n",
       "      <td>-1.387024</td>\n",
       "      <td>-0.054952</td>\n",
       "      <td>...</td>\n",
       "      <td>0.005274</td>\n",
       "      <td>-0.190321</td>\n",
       "      <td>-1.175575</td>\n",
       "      <td>0.647376</td>\n",
       "      <td>-0.221929</td>\n",
       "      <td>0.062723</td>\n",
       "      <td>0.061458</td>\n",
       "      <td>0</td>\n",
       "      <td>1.418291</td>\n",
       "      <td>-0.994972</td>\n",
       "    </tr>\n",
       "    <tr>\n",
       "      <th>4</th>\n",
       "      <td>-1.158233</td>\n",
       "      <td>0.877737</td>\n",
       "      <td>1.548718</td>\n",
       "      <td>0.403034</td>\n",
       "      <td>-0.407193</td>\n",
       "      <td>0.095921</td>\n",
       "      <td>0.592941</td>\n",
       "      <td>-0.270533</td>\n",
       "      <td>0.817739</td>\n",
       "      <td>0.753074</td>\n",
       "      <td>...</td>\n",
       "      <td>0.798278</td>\n",
       "      <td>-0.137458</td>\n",
       "      <td>0.141267</td>\n",
       "      <td>-0.206010</td>\n",
       "      <td>0.502292</td>\n",
       "      <td>0.219422</td>\n",
       "      <td>0.215153</td>\n",
       "      <td>0</td>\n",
       "      <td>0.670579</td>\n",
       "      <td>-0.994960</td>\n",
       "    </tr>\n",
       "  </tbody>\n",
       "</table>\n",
       "<p>5 rows × 31 columns</p>\n",
       "</div>"
      ],
      "text/plain": [
       "         V1        V2        V3        V4        V5        V6        V7  \\\n",
       "0 -1.359807 -0.072781  2.536347  1.378155 -0.338321  0.462388  0.239599   \n",
       "1  1.191857  0.266151  0.166480  0.448154  0.060018 -0.082361 -0.078803   \n",
       "2 -1.358354 -1.340163  1.773209  0.379780 -0.503198  1.800499  0.791461   \n",
       "3 -0.966272 -0.185226  1.792993 -0.863291 -0.010309  1.247203  0.237609   \n",
       "4 -1.158233  0.877737  1.548718  0.403034 -0.407193  0.095921  0.592941   \n",
       "\n",
       "         V8        V9       V10  ...       V22       V23       V24       V25  \\\n",
       "0  0.098698  0.363787  0.090794  ...  0.277838 -0.110474  0.066928  0.128539   \n",
       "1  0.085102 -0.255425 -0.166974  ... -0.638672  0.101288 -0.339846  0.167170   \n",
       "2  0.247676 -1.514654  0.207643  ...  0.771679  0.909412 -0.689281 -0.327642   \n",
       "3  0.377436 -1.387024 -0.054952  ...  0.005274 -0.190321 -1.175575  0.647376   \n",
       "4 -0.270533  0.817739  0.753074  ...  0.798278 -0.137458  0.141267 -0.206010   \n",
       "\n",
       "        V26       V27       V28  Class  scaled_amount  scaled_time  \n",
       "0 -0.189115  0.133558 -0.021053      0       1.783274    -0.994983  \n",
       "1  0.125895 -0.008983  0.014724      0      -0.269825    -0.994983  \n",
       "2 -0.139097 -0.055353 -0.059752      0       4.983721    -0.994972  \n",
       "3 -0.221929  0.062723  0.061458      0       1.418291    -0.994972  \n",
       "4  0.502292  0.219422  0.215153      0       0.670579    -0.994960  \n",
       "\n",
       "[5 rows x 31 columns]"
      ]
     },
     "execution_count": 36,
     "metadata": {},
     "output_type": "execute_result"
    }
   ],
   "source": [
    "df.head(5)"
   ]
  },
  {
   "cell_type": "code",
   "execution_count": 37,
   "metadata": {
    "ExecuteTime": {
     "end_time": "2025-08-02T15:31:12.494936500Z",
     "start_time": "2025-08-02T15:31:12.397684500Z"
    },
    "collapsed": false,
    "jupyter": {
     "outputs_hidden": false
    }
   },
   "outputs": [],
   "source": [
    "X_train, X_test, y_train, y_test = train_test_split(X,y,stratify=y,random_state=42)"
   ]
  },
  {
   "cell_type": "code",
   "execution_count": 38,
   "metadata": {
    "ExecuteTime": {
     "end_time": "2025-08-02T15:31:12.502911700Z",
     "start_time": "2025-08-02T15:31:12.496875100Z"
    },
    "collapsed": false,
    "jupyter": {
     "outputs_hidden": false
    }
   },
   "outputs": [
    {
     "name": "stdout",
     "output_type": "stream",
     "text": [
      "X_train :  (213605, 30)\n",
      "y_train :  (213605,)\n",
      "X_test :  (71202, 30)\n",
      "y_test :  (71202,)\n"
     ]
    }
   ],
   "source": [
    "print(\"X_train : \", X_train.shape)\n",
    "print(\"y_train : \",y_train.shape)\n",
    "print(\"X_test : \",X_test.shape)\n",
    "print(\"y_test : \",y_test.shape)"
   ]
  },
  {
   "cell_type": "markdown",
   "metadata": {
    "collapsed": false,
    "jupyter": {
     "outputs_hidden": false
    }
   },
   "source": [
    "Creation of little part of the dataset to test the best model to optimize for prediction"
   ]
  },
  {
   "cell_type": "markdown",
   "metadata": {
    "collapsed": false,
    "jupyter": {
     "outputs_hidden": false
    }
   },
   "source": [
    "Application of SMOTE (Over-sampling)"
   ]
  },
  {
   "cell_type": "code",
   "execution_count": 39,
   "metadata": {
    "ExecuteTime": {
     "end_time": "2025-08-02T15:44:03.389195400Z",
     "start_time": "2025-08-02T15:43:56.781265900Z"
    },
    "collapsed": false,
    "jupyter": {
     "outputs_hidden": false
    }
   },
   "outputs": [
    {
     "name": "stdout",
     "output_type": "stream",
     "text": [
      "Classe avant SMOTE: Counter({0: 213236, 1: 369})\n",
      "Classe après SMOTE: Counter({0: 213236, 1: 213236})\n",
      "(213236, 30)\n",
      "(213236,)\n"
     ]
    }
   ],
   "source": [
    "from imblearn.over_sampling import SMOTE\n",
    "from collections import Counter\n",
    "\n",
    "print(\"Classe avant SMOTE:\", Counter(y_train))\n",
    "\n",
    "smote = SMOTE(random_state=42)\n",
    "X_train_resampled, y_train_resampled = smote.fit_resample(X_train, y_train)\n",
    "\n",
    "print(\"Classe après SMOTE:\", Counter(y_train_resampled))\n",
    "\n",
    "X_resampled,_, y_resampled, _ = train_test_split(X_train_resampled, y_train_resampled, stratify=y_train_resampled,train_size=0.5, random_state=42)\n",
    "\n",
    "print(X_resampled.shape)\n",
    "print(y_resampled.shape)"
   ]
  },
  {
   "cell_type": "code",
   "execution_count": 40,
   "metadata": {
    "collapsed": false,
    "jupyter": {
     "outputs_hidden": false
    }
   },
   "outputs": [
    {
     "name": "stdout",
     "output_type": "stream",
     "text": [
      "Modèle en cours : LighBoost Classifier :\n",
      "[LightGBM] [Info] Number of positive: 213236, number of negative: 213236\n",
      "[LightGBM] [Info] Auto-choosing col-wise multi-threading, the overhead of testing was 0.040962 seconds.\n",
      "You can set `force_col_wise=true` to remove the overhead.\n",
      "[LightGBM] [Info] Total Bins 7650\n",
      "[LightGBM] [Info] Number of data points in the train set: 426472, number of used features: 30\n",
      "[LightGBM] [Info] [binary:BoostFromScore]: pavg=0.500000 -> initscore=0.000000\n",
      "Precision: 0.658\n",
      "Recall: 0.846\n",
      "F1 Score: 0.740\n",
      "ROC_AUC Score: 0.922\n",
      "PR AUC: 0.557\n",
      "              precision    recall  f1-score   support\n",
      "\n",
      "           0      1.000     0.999     0.999     71079\n",
      "           1      0.658     0.846     0.740       123\n",
      "\n",
      "    accuracy                          0.999     71202\n",
      "   macro avg      0.829     0.922     0.870     71202\n",
      "weighted avg      0.999     0.999     0.999     71202\n",
      "\n",
      "------\n",
      "Modèle en cours : XGBoost\n",
      "Precision: 0.810\n",
      "Recall: 0.829\n",
      "F1 Score: 0.819\n",
      "ROC_AUC Score: 0.914\n",
      "PR AUC: 0.672\n",
      "              precision    recall  f1-score   support\n",
      "\n",
      "           0      1.000     1.000     1.000     71079\n",
      "           1      0.810     0.829     0.819       123\n",
      "\n",
      "    accuracy                          0.999     71202\n",
      "   macro avg      0.905     0.914     0.909     71202\n",
      "weighted avg      0.999     0.999     0.999     71202\n",
      "\n",
      "------\n"
     ]
    }
   ],
   "source": [
    "models = {\n",
    "    \"LighBoost Classifier :\" : LGBMClassifier(random_state=42),\n",
    "    \"XGBoost\": XGBClassifier(random_state=42)\n",
    "    #\"Hist Gradient Boosting Classifier : \" : HistGradientBoostingClassifier(random_state=42),\n",
    "    #\"Cat Boost : \" : CatBoostClassifier(random_state=2)\n",
    "}\n",
    "\n",
    "for name, model in models.items():\n",
    "    print(f\"Modèle en cours : {name}\")\n",
    "    model.fit(X_train_resampled, y_train_resampled)\n",
    "    y_pred = model.predict(X_test)\n",
    "\n",
    "    print(f\"Precision: {precision_score(y_test, y_pred):.3f}\")\n",
    "    print(f\"Recall: {recall_score(y_test, y_pred):.3f}\")\n",
    "    print(f\"F1 Score: {f1_score(y_test, y_pred):.3f}\")\n",
    "    print(f\"ROC_AUC Score: {roc_auc_score(y_test, y_pred):.3f}\")\n",
    "    print(f\"PR AUC: {average_precision_score(y_test, y_pred):.3f}\")\n",
    "    print(classification_report(y_test, y_pred, digits=3))\n",
    "    print(\"------\")\n"
   ]
  },
  {
   "cell_type": "markdown",
   "metadata": {
    "collapsed": false,
    "jupyter": {
     "outputs_hidden": false
    }
   },
   "source": [
    "XGBoost"
   ]
  },
  {
   "cell_type": "code",
   "execution_count": 42,
   "metadata": {
    "ExecuteTime": {
     "end_time": "2025-08-02T15:45:57.948267700Z",
     "start_time": "2025-08-02T15:45:56.797576500Z"
    },
    "collapsed": false,
    "jupyter": {
     "outputs_hidden": false
    }
   },
   "outputs": [
    {
     "name": "stdout",
     "output_type": "stream",
     "text": [
      "Precision: 0.913\n",
      "Recall: 0.764\n",
      "F1 Score: 0.832\n",
      "ROC_AUC Score: 0.882\n",
      "PR AUC: 0.698\n",
      "              precision    recall  f1-score   support\n",
      "\n",
      "           0      1.000     1.000     1.000     71079\n",
      "           1      0.913     0.764     0.832       123\n",
      "\n",
      "    accuracy                          0.999     71202\n",
      "   macro avg      0.956     0.882     0.916     71202\n",
      "weighted avg      0.999     0.999     0.999     71202\n",
      "\n",
      "------\n"
     ]
    }
   ],
   "source": [
    "model = XGBClassifier(random_state=42)\n",
    "model.fit(X_train, y_train)\n",
    "y_pred = model.predict(X_test)\n",
    "\n",
    "print(f\"Precision: {precision_score(y_test, y_pred):.3f}\")\n",
    "print(f\"Recall: {recall_score(y_test, y_pred):.3f}\")\n",
    "print(f\"F1 Score: {f1_score(y_test, y_pred):.3f}\")\n",
    "print(f\"ROC_AUC Score: {roc_auc_score(y_test, y_pred):.3f}\")\n",
    "print(f\"PR AUC: {average_precision_score(y_test, y_pred):.3f}\")\n",
    "print(classification_report(y_test, y_pred, digits=3))\n",
    "print(\"------\")"
   ]
  },
  {
   "cell_type": "markdown",
   "metadata": {},
   "source": [
    "Optimisation of XGBoost"
   ]
  },
  {
   "cell_type": "code",
   "execution_count": 56,
   "metadata": {},
   "outputs": [
    {
     "name": "stderr",
     "output_type": "stream",
     "text": [
      "[I 2025-08-03 17:37:19,942] A new study created in memory with name: no-name-d0f62b85-bafd-40b9-add2-b36c61b7c912\n",
      "[I 2025-08-03 17:37:26,576] Trial 0 finished with value: 0.9333333333333333 and parameters: {'max_depth': 12, 'learning_rate': 0.23475955970107945, 'n_estimators': 731, 'subsample': 0.9813247136612231, 'colsample_bytree': 0.8231868787993628, 'scale_pos_weight': 1.0033884143663943}. Best is trial 0 with value: 0.9333333333333333.\n",
      "[I 2025-08-03 17:37:28,741] Trial 1 finished with value: 0.9090909090909091 and parameters: {'max_depth': 5, 'learning_rate': 0.16740467685173513, 'n_estimators': 199, 'subsample': 0.9463058340549795, 'colsample_bytree': 0.5300765728657288, 'scale_pos_weight': 9.357507833438415}. Best is trial 0 with value: 0.9333333333333333.\n",
      "[I 2025-08-03 17:37:36,471] Trial 2 finished with value: 0.9345794392523364 and parameters: {'max_depth': 12, 'learning_rate': 0.24058248762712414, 'n_estimators': 827, 'subsample': 0.5243810450156037, 'colsample_bytree': 0.789626329437561, 'scale_pos_weight': 13.683265873528214}. Best is trial 2 with value: 0.9345794392523364.\n",
      "[I 2025-08-03 17:37:42,954] Trial 3 finished with value: 0.9009009009009009 and parameters: {'max_depth': 5, 'learning_rate': 0.16968997406051511, 'n_estimators': 610, 'subsample': 0.7044774711784318, 'colsample_bytree': 0.5393387842675199, 'scale_pos_weight': 18.193834783214278}. Best is trial 2 with value: 0.9345794392523364.\n",
      "[I 2025-08-03 17:37:46,469] Trial 4 finished with value: 0.9238095238095239 and parameters: {'max_depth': 6, 'learning_rate': 0.17978442801086836, 'n_estimators': 227, 'subsample': 0.5978660739520973, 'colsample_bytree': 0.8028387853323214, 'scale_pos_weight': 7.170674902704886}. Best is trial 2 with value: 0.9345794392523364.\n",
      "[I 2025-08-03 17:37:53,873] Trial 5 finished with value: 0.9158878504672897 and parameters: {'max_depth': 6, 'learning_rate': 0.03885225390624113, 'n_estimators': 567, 'subsample': 0.6262682040158374, 'colsample_bytree': 0.8850995503535048, 'scale_pos_weight': 4.493672827134492}. Best is trial 2 with value: 0.9345794392523364.\n",
      "[I 2025-08-03 17:37:57,226] Trial 6 finished with value: 0.8947368421052632 and parameters: {'max_depth': 3, 'learning_rate': 0.14063010813095592, 'n_estimators': 338, 'subsample': 0.518438063146992, 'colsample_bytree': 0.7468951363137968, 'scale_pos_weight': 17.983520052949537}. Best is trial 2 with value: 0.9345794392523364.\n",
      "[I 2025-08-03 17:38:03,887] Trial 7 finished with value: 0.9166666666666666 and parameters: {'max_depth': 12, 'learning_rate': 0.13733465515023482, 'n_estimators': 556, 'subsample': 0.8791650115825396, 'colsample_bytree': 0.7306499633395633, 'scale_pos_weight': 13.15433548626197}. Best is trial 2 with value: 0.9345794392523364.\n",
      "[I 2025-08-03 17:38:10,737] Trial 8 finished with value: 0.9339622641509434 and parameters: {'max_depth': 10, 'learning_rate': 0.28415104547420833, 'n_estimators': 619, 'subsample': 0.6675937773952298, 'colsample_bytree': 0.8136731791265864, 'scale_pos_weight': 3.874020055054639}. Best is trial 2 with value: 0.9345794392523364.\n",
      "[I 2025-08-03 17:38:15,126] Trial 9 finished with value: 0.8859649122807017 and parameters: {'max_depth': 3, 'learning_rate': 0.19174240676529528, 'n_estimators': 379, 'subsample': 0.664433176889607, 'colsample_bytree': 0.8862644953146943, 'scale_pos_weight': 19.71696936744912}. Best is trial 2 with value: 0.9345794392523364.\n",
      "[I 2025-08-03 17:38:27,522] Trial 10 finished with value: 0.908256880733945 and parameters: {'max_depth': 9, 'learning_rate': 0.27064186882949265, 'n_estimators': 923, 'subsample': 0.7948349582477918, 'colsample_bytree': 0.6556765225426092, 'scale_pos_weight': 12.872416482853406}. Best is trial 2 with value: 0.9345794392523364.\n",
      "[I 2025-08-03 17:38:39,252] Trial 11 finished with value: 0.9345794392523364 and parameters: {'max_depth': 10, 'learning_rate': 0.29166994033164645, 'n_estimators': 862, 'subsample': 0.5347783822658281, 'colsample_bytree': 0.9910163569162718, 'scale_pos_weight': 14.050380495361697}. Best is trial 2 with value: 0.9345794392523364.\n",
      "[I 2025-08-03 17:38:54,758] Trial 12 finished with value: 0.8990825688073395 and parameters: {'max_depth': 10, 'learning_rate': 0.23606267293423663, 'n_estimators': 985, 'subsample': 0.5347503815407222, 'colsample_bytree': 0.9961071337173097, 'scale_pos_weight': 14.576684841283258}. Best is trial 2 with value: 0.9345794392523364.\n",
      "[I 2025-08-03 17:39:08,409] Trial 13 finished with value: 0.9158878504672897 and parameters: {'max_depth': 11, 'learning_rate': 0.29298365665001086, 'n_estimators': 818, 'subsample': 0.5650962704566482, 'colsample_bytree': 0.9956194998677554, 'scale_pos_weight': 15.70835841004295}. Best is trial 2 with value: 0.9345794392523364.\n",
      "[I 2025-08-03 17:39:21,467] Trial 14 finished with value: 0.9252336448598131 and parameters: {'max_depth': 9, 'learning_rate': 0.24181020479280396, 'n_estimators': 819, 'subsample': 0.7766294604438393, 'colsample_bytree': 0.6512968019989029, 'scale_pos_weight': 10.019116167711406}. Best is trial 2 with value: 0.9345794392523364.\n",
      "[I 2025-08-03 17:39:37,173] Trial 15 finished with value: 0.9099099099099099 and parameters: {'max_depth': 8, 'learning_rate': 0.07966665709149102, 'n_estimators': 748, 'subsample': 0.5030388878067952, 'colsample_bytree': 0.9172985667281693, 'scale_pos_weight': 11.93247724907728}. Best is trial 2 with value: 0.9345794392523364.\n",
      "[I 2025-08-03 17:39:54,106] Trial 16 finished with value: 0.9345794392523364 and parameters: {'max_depth': 11, 'learning_rate': 0.22370303700959554, 'n_estimators': 890, 'subsample': 0.5839440800562575, 'colsample_bytree': 0.628357423575855, 'scale_pos_weight': 15.850896776477851}. Best is trial 2 with value: 0.9345794392523364.\n",
      "[I 2025-08-03 17:40:14,347] Trial 17 finished with value: 0.9259259259259259 and parameters: {'max_depth': 11, 'learning_rate': 0.26292799965397906, 'n_estimators': 702, 'subsample': 0.645249387221071, 'colsample_bytree': 0.935079722071225, 'scale_pos_weight': 8.175889372098172}. Best is trial 2 with value: 0.9345794392523364.\n",
      "[I 2025-08-03 17:40:31,116] Trial 18 finished with value: 0.8938053097345132 and parameters: {'max_depth': 8, 'learning_rate': 0.2985399035158385, 'n_estimators': 997, 'subsample': 0.7260749527279782, 'colsample_bytree': 0.7164253011566482, 'scale_pos_weight': 11.356530840604094}. Best is trial 2 with value: 0.9345794392523364.\n",
      "[I 2025-08-03 17:40:46,251] Trial 19 finished with value: 0.9 and parameters: {'max_depth': 12, 'learning_rate': 0.21120026194651445, 'n_estimators': 870, 'subsample': 0.8191912042079834, 'colsample_bytree': 0.5864325000892272, 'scale_pos_weight': 13.915335406922468}. Best is trial 2 with value: 0.9345794392523364.\n",
      "[I 2025-08-03 17:40:55,051] Trial 20 finished with value: 0.9181818181818182 and parameters: {'max_depth': 10, 'learning_rate': 0.2509338716805703, 'n_estimators': 442, 'subsample': 0.5599954227036046, 'colsample_bytree': 0.8408811825795469, 'scale_pos_weight': 16.67055851099524}. Best is trial 2 with value: 0.9345794392523364.\n",
      "[I 2025-08-03 17:41:08,938] Trial 21 finished with value: 0.9351851851851852 and parameters: {'max_depth': 11, 'learning_rate': 0.22010809871096476, 'n_estimators': 899, 'subsample': 0.5928854790822297, 'colsample_bytree': 0.6612822399633566, 'scale_pos_weight': 15.731585451139638}. Best is trial 21 with value: 0.9351851851851852.\n",
      "[I 2025-08-03 17:41:21,984] Trial 22 finished with value: 0.9166666666666666 and parameters: {'max_depth': 11, 'learning_rate': 0.2059703034273243, 'n_estimators': 777, 'subsample': 0.607183172258374, 'colsample_bytree': 0.6931631338997813, 'scale_pos_weight': 14.263408301659263}. Best is trial 21 with value: 0.9351851851851852.\n",
      "[I 2025-08-03 17:41:33,569] Trial 23 finished with value: 0.9 and parameters: {'max_depth': 9, 'learning_rate': 0.26726099846546, 'n_estimators': 686, 'subsample': 0.5027296710147716, 'colsample_bytree': 0.770415592341758, 'scale_pos_weight': 17.060471268458993}. Best is trial 21 with value: 0.9351851851851852.\n",
      "[I 2025-08-03 17:41:49,195] Trial 24 finished with value: 0.9090909090909091 and parameters: {'max_depth': 12, 'learning_rate': 0.202522957905575, 'n_estimators': 930, 'subsample': 0.550065938372905, 'colsample_bytree': 0.6061631368649498, 'scale_pos_weight': 15.153829219861473}. Best is trial 21 with value: 0.9351851851851852.\n",
      "[I 2025-08-03 17:42:04,036] Trial 25 finished with value: 0.9 and parameters: {'max_depth': 10, 'learning_rate': 0.12455861621782921, 'n_estimators': 832, 'subsample': 0.6908050006880876, 'colsample_bytree': 0.6843801973545397, 'scale_pos_weight': 12.019716680871026}. Best is trial 21 with value: 0.9351851851851852.\n",
      "[I 2025-08-03 17:42:20,405] Trial 26 finished with value: 0.941747572815534 and parameters: {'max_depth': 11, 'learning_rate': 0.25869113022512785, 'n_estimators': 941, 'subsample': 0.6099207783155466, 'colsample_bytree': 0.5742778512975675, 'scale_pos_weight': 18.688938649694776}. Best is trial 26 with value: 0.941747572815534.\n",
      "[I 2025-08-03 17:42:35,053] Trial 27 finished with value: 0.9351851851851852 and parameters: {'max_depth': 11, 'learning_rate': 0.22509399120334825, 'n_estimators': 946, 'subsample': 0.6143937403317741, 'colsample_bytree': 0.5674424693409408, 'scale_pos_weight': 19.687016934087744}. Best is trial 26 with value: 0.941747572815534.\n",
      "[I 2025-08-03 17:42:38,313] Trial 28 finished with value: 0.9333333333333333 and parameters: {'max_depth': 7, 'learning_rate': 0.22103072779499258, 'n_estimators': 110, 'subsample': 0.7352548095560952, 'colsample_bytree': 0.5769343709898486, 'scale_pos_weight': 19.814349804003562}. Best is trial 26 with value: 0.941747572815534.\n",
      "[I 2025-08-03 17:43:07,577] Trial 29 finished with value: 0.9519230769230769 and parameters: {'max_depth': 11, 'learning_rate': 0.18678958361581607, 'n_estimators': 980, 'subsample': 0.6364280390459267, 'colsample_bytree': 0.5668143048360014, 'scale_pos_weight': 18.164665611560476}. Best is trial 29 with value: 0.9519230769230769.\n",
      "[I 2025-08-03 17:43:31,980] Trial 30 finished with value: 0.9339622641509434 and parameters: {'max_depth': 9, 'learning_rate': 0.09541282602369633, 'n_estimators': 991, 'subsample': 0.6425896009439144, 'colsample_bytree': 0.5091853141180074, 'scale_pos_weight': 18.298842172005145}. Best is trial 29 with value: 0.9519230769230769.\n",
      "[I 2025-08-03 17:43:52,509] Trial 31 finished with value: 0.9433962264150944 and parameters: {'max_depth': 11, 'learning_rate': 0.18662075065850248, 'n_estimators': 945, 'subsample': 0.6115209603140606, 'colsample_bytree': 0.5526970231559016, 'scale_pos_weight': 19.982112548643652}. Best is trial 29 with value: 0.9519230769230769.\n",
      "[I 2025-08-03 17:44:13,717] Trial 32 finished with value: 0.9252336448598131 and parameters: {'max_depth': 11, 'learning_rate': 0.15805964766629568, 'n_estimators': 919, 'subsample': 0.590563435014088, 'colsample_bytree': 0.5462841801567264, 'scale_pos_weight': 18.659779843097603}. Best is trial 29 with value: 0.9519230769230769.\n",
      "[I 2025-08-03 17:44:30,604] Trial 33 finished with value: 0.9245283018867925 and parameters: {'max_depth': 12, 'learning_rate': 0.1865619036392357, 'n_estimators': 768, 'subsample': 0.6839267200105783, 'colsample_bytree': 0.5010942566275873, 'scale_pos_weight': 17.755455948717202}. Best is trial 29 with value: 0.9519230769230769.\n",
      "[I 2025-08-03 17:44:50,943] Trial 34 finished with value: 0.9174311926605505 and parameters: {'max_depth': 11, 'learning_rate': 0.17106727646181874, 'n_estimators': 946, 'subsample': 0.9967283329900977, 'colsample_bytree': 0.608143821317447, 'scale_pos_weight': 16.0533614438886}. Best is trial 29 with value: 0.9519230769230769.\n",
      "[I 2025-08-03 17:45:10,297] Trial 35 finished with value: 0.9245283018867925 and parameters: {'max_depth': 12, 'learning_rate': 0.1898576704234593, 'n_estimators': 879, 'subsample': 0.6338393843878171, 'colsample_bytree': 0.5555212012536508, 'scale_pos_weight': 17.194894211575203}. Best is trial 29 with value: 0.9519230769230769.\n",
      "[I 2025-08-03 17:45:24,895] Trial 36 finished with value: 0.9238095238095239 and parameters: {'max_depth': 10, 'learning_rate': 0.2539637549254157, 'n_estimators': 652, 'subsample': 0.5776364060414156, 'colsample_bytree': 0.5309409982016908, 'scale_pos_weight': 19.116887451728523}. Best is trial 29 with value: 0.9519230769230769.\n",
      "[I 2025-08-03 17:45:42,728] Trial 37 finished with value: 0.9181818181818182 and parameters: {'max_depth': 4, 'learning_rate': 0.14463344817482165, 'n_estimators': 791, 'subsample': 0.7120502821029563, 'colsample_bytree': 0.6341622001990779, 'scale_pos_weight': 18.777339999027507}. Best is trial 29 with value: 0.9519230769230769.\n",
      "[I 2025-08-03 17:46:04,670] Trial 38 finished with value: 0.9333333333333333 and parameters: {'max_depth': 8, 'learning_rate': 0.16501954130200944, 'n_estimators': 961, 'subsample': 0.6577854478850914, 'colsample_bytree': 0.5912256766084419, 'scale_pos_weight': 16.71371706160654}. Best is trial 29 with value: 0.9519230769230769.\n",
      "[I 2025-08-03 17:46:24,789] Trial 39 finished with value: 0.9411764705882353 and parameters: {'max_depth': 7, 'learning_rate': 0.11837967691044587, 'n_estimators': 889, 'subsample': 0.6010657380791221, 'colsample_bytree': 0.6732900038594856, 'scale_pos_weight': 1.3163214631594276}. Best is trial 29 with value: 0.9519230769230769.\n",
      "[I 2025-08-03 17:46:44,512] Trial 40 finished with value: 0.9333333333333333 and parameters: {'max_depth': 6, 'learning_rate': 0.1079947425289567, 'n_estimators': 843, 'subsample': 0.9541684979279703, 'colsample_bytree': 0.6182804533054626, 'scale_pos_weight': 3.645605677378486}. Best is trial 29 with value: 0.9519230769230769.\n",
      "[I 2025-08-03 17:47:10,081] Trial 41 finished with value: 0.9339622641509434 and parameters: {'max_depth': 7, 'learning_rate': 0.059548343014952765, 'n_estimators': 899, 'subsample': 0.5979203915267779, 'colsample_bytree': 0.6780684091244145, 'scale_pos_weight': 2.0610418816151883}. Best is trial 29 with value: 0.9519230769230769.\n",
      "[I 2025-08-03 17:47:22,487] Trial 42 finished with value: 0.908256880733945 and parameters: {'max_depth': 7, 'learning_rate': 0.11742090326655072, 'n_estimators': 473, 'subsample': 0.6168407256925084, 'colsample_bytree': 0.65813989031024, 'scale_pos_weight': 8.954335850220904}. Best is trial 29 with value: 0.9519230769230769.\n",
      "[I 2025-08-03 17:47:47,479] Trial 43 finished with value: 0.9514563106796117 and parameters: {'max_depth': 12, 'learning_rate': 0.1772626421751031, 'n_estimators': 996, 'subsample': 0.6719013058942235, 'colsample_bytree': 0.530211052115043, 'scale_pos_weight': 5.702163527139473}. Best is trial 29 with value: 0.9519230769230769.\n",
      "[I 2025-08-03 17:48:22,288] Trial 44 finished with value: 0.9428571428571428 and parameters: {'max_depth': 12, 'learning_rate': 0.021494329264156453, 'n_estimators': 994, 'subsample': 0.6797172934302045, 'colsample_bytree': 0.5281634117391221, 'scale_pos_weight': 5.826460818646685}. Best is trial 29 with value: 0.9519230769230769.\n",
      "[I 2025-08-03 17:48:55,697] Trial 45 finished with value: 0.9174311926605505 and parameters: {'max_depth': 12, 'learning_rate': 0.029207003781577538, 'n_estimators': 996, 'subsample': 0.7558932058649552, 'colsample_bytree': 0.5256253916942315, 'scale_pos_weight': 5.085566522047761}. Best is trial 29 with value: 0.9519230769230769.\n",
      "[I 2025-08-03 17:49:20,991] Trial 46 finished with value: 0.9339622641509434 and parameters: {'max_depth': 12, 'learning_rate': 0.17583153133763324, 'n_estimators': 950, 'subsample': 0.6832506917589606, 'colsample_bytree': 0.5533502357469581, 'scale_pos_weight': 6.353742366653858}. Best is trial 29 with value: 0.9519230769230769.\n",
      "[I 2025-08-03 17:49:30,024] Trial 47 finished with value: 0.9245283018867925 and parameters: {'max_depth': 12, 'learning_rate': 0.14545181150666706, 'n_estimators': 262, 'subsample': 0.6616290134420804, 'colsample_bytree': 0.5207525863413456, 'scale_pos_weight': 6.715078717918055}. Best is trial 29 with value: 0.9519230769230769.\n",
      "[I 2025-08-03 17:49:58,366] Trial 48 finished with value: 0.9252336448598131 and parameters: {'max_depth': 10, 'learning_rate': 0.01668028670454394, 'n_estimators': 957, 'subsample': 0.7033980522259782, 'colsample_bytree': 0.5413930076086483, 'scale_pos_weight': 5.578543497952213}. Best is trial 29 with value: 0.9519230769230769.\n",
      "[I 2025-08-03 17:50:19,577] Trial 49 finished with value: 0.9428571428571428 and parameters: {'max_depth': 11, 'learning_rate': 0.048747815243186096, 'n_estimators': 802, 'subsample': 0.8460922314208088, 'colsample_bytree': 0.5713342086791843, 'scale_pos_weight': 2.9848965739199245}. Best is trial 29 with value: 0.9519230769230769.\n",
      "[I 2025-08-03 17:50:38,850] Trial 50 finished with value: 0.9339622641509434 and parameters: {'max_depth': 11, 'learning_rate': 0.05413629408501113, 'n_estimators': 722, 'subsample': 0.8778992727835143, 'colsample_bytree': 0.5930699522239321, 'scale_pos_weight': 3.1186093552313}. Best is trial 29 with value: 0.9519230769230769.\n",
      "[I 2025-08-03 17:51:06,006] Trial 51 finished with value: 0.9411764705882353 and parameters: {'max_depth': 11, 'learning_rate': 0.015561681648713431, 'n_estimators': 969, 'subsample': 0.842837309001143, 'colsample_bytree': 0.5601520851487508, 'scale_pos_weight': 2.676151741882922}. Best is trial 29 with value: 0.9519230769230769.\n",
      "[I 2025-08-03 17:51:31,316] Trial 52 finished with value: 0.9345794392523364 and parameters: {'max_depth': 12, 'learning_rate': 0.041596216622307725, 'n_estimators': 914, 'subsample': 0.9062756454838234, 'colsample_bytree': 0.5731171121687145, 'scale_pos_weight': 7.744713133928413}. Best is trial 29 with value: 0.9519230769230769.\n",
      "[I 2025-08-03 17:51:53,339] Trial 53 finished with value: 0.9245283018867925 and parameters: {'max_depth': 10, 'learning_rate': 0.07292694926622353, 'n_estimators': 852, 'subsample': 0.6284533575871867, 'colsample_bytree': 0.514594324217323, 'scale_pos_weight': 4.895548402998779}. Best is trial 29 with value: 0.9519230769230769.\n",
      "[I 2025-08-03 17:52:09,690] Trial 54 finished with value: 0.9523809523809523 and parameters: {'max_depth': 11, 'learning_rate': 0.2802437247559616, 'n_estimators': 809, 'subsample': 0.7676171488708414, 'colsample_bytree': 0.5374120220064691, 'scale_pos_weight': 4.099452525770522}. Best is trial 54 with value: 0.9523809523809523.\n",
      "[I 2025-08-03 17:52:26,509] Trial 55 finished with value: 0.9339622641509434 and parameters: {'max_depth': 12, 'learning_rate': 0.2812123574837044, 'n_estimators': 811, 'subsample': 0.7747744092231748, 'colsample_bytree': 0.5394107295962354, 'scale_pos_weight': 4.326576570688168}. Best is trial 54 with value: 0.9523809523809523.\n",
      "[I 2025-08-03 17:52:47,609] Trial 56 finished with value: 0.9259259259259259 and parameters: {'max_depth': 11, 'learning_rate': 0.04106146994960663, 'n_estimators': 748, 'subsample': 0.8487161186487702, 'colsample_bytree': 0.5017314540445994, 'scale_pos_weight': 5.889803091264529}. Best is trial 54 with value: 0.9523809523809523.\n",
      "[I 2025-08-03 17:52:59,856] Trial 57 finished with value: 0.9320388349514563 and parameters: {'max_depth': 9, 'learning_rate': 0.19751228485912664, 'n_estimators': 524, 'subsample': 0.7947635776445552, 'colsample_bytree': 0.635010194935632, 'scale_pos_weight': 1.3502651711183127}. Best is trial 54 with value: 0.9523809523809523.\n",
      "[I 2025-08-03 17:53:14,113] Trial 58 finished with value: 0.9333333333333333 and parameters: {'max_depth': 5, 'learning_rate': 0.15757663342195635, 'n_estimators': 620, 'subsample': 0.7485342500955539, 'colsample_bytree': 0.5980845733961697, 'scale_pos_weight': 4.047404216156804}. Best is trial 54 with value: 0.9523809523809523.\n",
      "[I 2025-08-03 17:53:35,446] Trial 59 finished with value: 0.9150943396226415 and parameters: {'max_depth': 12, 'learning_rate': 0.18082317100498513, 'n_estimators': 1000, 'subsample': 0.713103390624336, 'colsample_bytree': 0.5348763557312967, 'scale_pos_weight': 7.517877365155394}. Best is trial 54 with value: 0.9523809523809523.\n",
      "[I 2025-08-03 17:53:56,780] Trial 60 finished with value: 0.9009009009009009 and parameters: {'max_depth': 10, 'learning_rate': 0.12969430937693338, 'n_estimators': 917, 'subsample': 0.6764653334435758, 'colsample_bytree': 0.8391045280396221, 'scale_pos_weight': 9.080181872857828}. Best is trial 54 with value: 0.9523809523809523.\n",
      "[I 2025-08-03 17:54:16,461] Trial 61 finished with value: 0.9514563106796117 and parameters: {'max_depth': 11, 'learning_rate': 0.23492129312380572, 'n_estimators': 969, 'subsample': 0.6448137182034013, 'colsample_bytree': 0.5754317642697888, 'scale_pos_weight': 3.249747104766701}. Best is trial 54 with value: 0.9523809523809523.\n",
      "[I 2025-08-03 17:54:34,424] Trial 62 finished with value: 0.9411764705882353 and parameters: {'max_depth': 11, 'learning_rate': 0.24614207047041375, 'n_estimators': 865, 'subsample': 0.6579260779590773, 'colsample_bytree': 0.5611941238465604, 'scale_pos_weight': 3.7109735641294823}. Best is trial 54 with value: 0.9523809523809523.\n",
      "[I 2025-08-03 17:54:53,941] Trial 63 finished with value: 0.9423076923076923 and parameters: {'max_depth': 11, 'learning_rate': 0.2754085810725892, 'n_estimators': 961, 'subsample': 0.6496516357483779, 'colsample_bytree': 0.5858266115962955, 'scale_pos_weight': 2.483956301304627}. Best is trial 54 with value: 0.9523809523809523.\n",
      "[I 2025-08-03 17:55:14,289] Trial 64 finished with value: 0.9320388349514563 and parameters: {'max_depth': 12, 'learning_rate': 0.21089097491365005, 'n_estimators': 974, 'subsample': 0.8098032672418679, 'colsample_bytree': 0.5180058527514225, 'scale_pos_weight': 3.168827293185614}. Best is trial 54 with value: 0.9523809523809523.\n",
      "[I 2025-08-03 17:55:31,772] Trial 65 finished with value: 0.9423076923076923 and parameters: {'max_depth': 10, 'learning_rate': 0.2305783980337729, 'n_estimators': 806, 'subsample': 0.7328194395941949, 'colsample_bytree': 0.552179433160508, 'scale_pos_weight': 4.861715972389691}. Best is trial 54 with value: 0.9523809523809523.\n",
      "[I 2025-08-03 17:56:01,713] Trial 66 finished with value: 0.9514563106796117 and parameters: {'max_depth': 11, 'learning_rate': 0.031212283763980962, 'n_estimators': 923, 'subsample': 0.629839865714905, 'colsample_bytree': 0.6164596543044693, 'scale_pos_weight': 2.1265476807930566}. Best is trial 54 with value: 0.9523809523809523.\n",
      "[I 2025-08-03 17:56:22,738] Trial 67 finished with value: 0.9238095238095239 and parameters: {'max_depth': 11, 'learning_rate': 0.2130558933529008, 'n_estimators': 908, 'subsample': 0.627866017401675, 'colsample_bytree': 0.6181928700227932, 'scale_pos_weight': 1.892858426593679}. Best is trial 54 with value: 0.9523809523809523.\n",
      "[I 2025-08-03 17:56:43,953] Trial 68 finished with value: 0.9238095238095239 and parameters: {'max_depth': 12, 'learning_rate': 0.18481561823542694, 'n_estimators': 925, 'subsample': 0.6986876350563999, 'colsample_bytree': 0.5429004022978694, 'scale_pos_weight': 5.530092148350527}. Best is trial 54 with value: 0.9523809523809523.\n",
      "[I 2025-08-03 17:57:12,940] Trial 69 finished with value: 0.9339622641509434 and parameters: {'max_depth': 9, 'learning_rate': 0.026657602458613185, 'n_estimators': 999, 'subsample': 0.5632609302234456, 'colsample_bytree': 0.5240061834479104, 'scale_pos_weight': 9.757911620124837}. Best is trial 54 with value: 0.9523809523809523.\n",
      "[I 2025-08-03 17:57:32,175] Trial 70 finished with value: 0.9174311926605505 and parameters: {'max_depth': 10, 'learning_rate': 0.19795322731350126, 'n_estimators': 876, 'subsample': 0.641893766104875, 'colsample_bytree': 0.7567047316147983, 'scale_pos_weight': 8.462111897148544}. Best is trial 54 with value: 0.9523809523809523.\n",
      "[I 2025-08-03 17:57:57,367] Trial 71 finished with value: 0.9339622641509434 and parameters: {'max_depth': 11, 'learning_rate': 0.05172420368415505, 'n_estimators': 937, 'subsample': 0.6716768244775378, 'colsample_bytree': 0.5792790830773408, 'scale_pos_weight': 2.7771011435698667}. Best is trial 54 with value: 0.9523809523809523.\n",
      "[I 2025-08-03 17:58:25,490] Trial 72 finished with value: 0.9158878504672897 and parameters: {'max_depth': 11, 'learning_rate': 0.02781126722216276, 'n_estimators': 973, 'subsample': 0.5455548567941583, 'colsample_bytree': 0.5698981944078159, 'scale_pos_weight': 10.93154224967745}. Best is trial 54 with value: 0.9523809523809523.\n",
      "[I 2025-08-03 17:58:46,737] Trial 73 finished with value: 0.9326923076923077 and parameters: {'max_depth': 11, 'learning_rate': 0.07461981042878932, 'n_estimators': 842, 'subsample': 0.5718025614748431, 'colsample_bytree': 0.6047465618174935, 'scale_pos_weight': 1.9185668384735193}. Best is trial 54 with value: 0.9523809523809523.\n",
      "[I 2025-08-03 17:59:02,766] Trial 74 finished with value: 0.9333333333333333 and parameters: {'max_depth': 12, 'learning_rate': 0.1655146832797978, 'n_estimators': 677, 'subsample': 0.6236957567464798, 'colsample_bytree': 0.533754009718296, 'scale_pos_weight': 3.1524395948456516}. Best is trial 54 with value: 0.9523809523809523.\n",
      "[I 2025-08-03 17:59:21,455] Trial 75 finished with value: 0.9514563106796117 and parameters: {'max_depth': 11, 'learning_rate': 0.23615737333760517, 'n_estimators': 900, 'subsample': 0.7179277626449642, 'colsample_bytree': 0.5596697904639937, 'scale_pos_weight': 1.022628912182006}. Best is trial 54 with value: 0.9523809523809523.\n",
      "[I 2025-08-03 17:59:41,790] Trial 76 finished with value: 0.9428571428571428 and parameters: {'max_depth': 10, 'learning_rate': 0.23361632946881075, 'n_estimators': 973, 'subsample': 0.7528257572425952, 'colsample_bytree': 0.7184299990017297, 'scale_pos_weight': 1.3023453650873031}. Best is trial 54 with value: 0.9523809523809523.\n",
      "[I 2025-08-03 18:00:00,255] Trial 77 finished with value: 0.9428571428571428 and parameters: {'max_depth': 12, 'learning_rate': 0.2605326487045501, 'n_estimators': 889, 'subsample': 0.7154195368922501, 'colsample_bytree': 0.5014365510507608, 'scale_pos_weight': 2.317139654944631}. Best is trial 54 with value: 0.9523809523809523.\n",
      "[I 2025-08-03 18:00:19,054] Trial 78 finished with value: 0.9320388349514563 and parameters: {'max_depth': 11, 'learning_rate': 0.28967515810134203, 'n_estimators': 932, 'subsample': 0.6892268490687826, 'colsample_bytree': 0.6209575169138537, 'scale_pos_weight': 4.280706405623898}. Best is trial 54 with value: 0.9523809523809523.\n",
      "[I 2025-08-03 18:00:37,391] Trial 79 finished with value: 0.9519230769230769 and parameters: {'max_depth': 10, 'learning_rate': 0.23970397842675073, 'n_estimators': 861, 'subsample': 0.7730505607881878, 'colsample_bytree': 0.5512038482541893, 'scale_pos_weight': 6.855248832774578}. Best is trial 54 with value: 0.9523809523809523.\n",
      "[I 2025-08-03 18:00:55,715] Trial 80 finished with value: 0.9514563106796117 and parameters: {'max_depth': 10, 'learning_rate': 0.2428946921333873, 'n_estimators': 838, 'subsample': 0.7704144460235033, 'colsample_bytree': 0.6415422041822838, 'scale_pos_weight': 1.7589655709439562}. Best is trial 54 with value: 0.9523809523809523.\n",
      "[I 2025-08-03 18:01:13,671] Trial 81 finished with value: 0.9514563106796117 and parameters: {'max_depth': 10, 'learning_rate': 0.24767389156036917, 'n_estimators': 861, 'subsample': 0.7708850785382934, 'colsample_bytree': 0.5516973974550008, 'scale_pos_weight': 1.0803847742393948}. Best is trial 54 with value: 0.9523809523809523.\n",
      "[I 2025-08-03 18:01:33,639] Trial 82 finished with value: 0.970873786407767 and parameters: {'max_depth': 9, 'learning_rate': 0.24474552856185788, 'n_estimators': 823, 'subsample': 0.7678665990669592, 'colsample_bytree': 0.6394395082216124, 'scale_pos_weight': 1.1210220304638547}. Best is trial 82 with value: 0.970873786407767.\n",
      "[I 2025-08-03 18:01:52,611] Trial 83 finished with value: 0.9428571428571428 and parameters: {'max_depth': 9, 'learning_rate': 0.2394545528168664, 'n_estimators': 827, 'subsample': 0.7884007989400686, 'colsample_bytree': 0.6270058124190045, 'scale_pos_weight': 1.6684417441834891}. Best is trial 82 with value: 0.970873786407767.\n",
      "[I 2025-08-03 18:02:05,080] Trial 84 finished with value: 0.9245283018867925 and parameters: {'max_depth': 9, 'learning_rate': 0.2681912911875842, 'n_estimators': 777, 'subsample': 0.7632368235891204, 'colsample_bytree': 0.6425186190422018, 'scale_pos_weight': 3.612399189526242}. Best is trial 82 with value: 0.970873786407767.\n",
      "[I 2025-08-03 18:02:16,218] Trial 85 finished with value: 0.9423076923076923 and parameters: {'max_depth': 10, 'learning_rate': 0.2542823258731341, 'n_estimators': 756, 'subsample': 0.728495486366164, 'colsample_bytree': 0.6469441898825656, 'scale_pos_weight': 2.2779316878358196}. Best is trial 82 with value: 0.970873786407767.\n",
      "[I 2025-08-03 18:02:28,864] Trial 86 finished with value: 0.96 and parameters: {'max_depth': 9, 'learning_rate': 0.22775908532194114, 'n_estimators': 892, 'subsample': 0.8156839115409535, 'colsample_bytree': 0.7045386612382082, 'scale_pos_weight': 1.7570227205065736}. Best is trial 82 with value: 0.970873786407767.\n",
      "[I 2025-08-03 18:02:42,369] Trial 87 finished with value: 0.9 and parameters: {'max_depth': 9, 'learning_rate': 0.22946856963680734, 'n_estimators': 892, 'subsample': 0.74583956110994, 'colsample_bytree': 0.6918966905807002, 'scale_pos_weight': 13.29014039547397}. Best is trial 82 with value: 0.970873786407767.\n",
      "[I 2025-08-03 18:02:56,285] Trial 88 finished with value: 0.926605504587156 and parameters: {'max_depth': 8, 'learning_rate': 0.21600853865526068, 'n_estimators': 868, 'subsample': 0.8130242922639176, 'colsample_bytree': 0.6120023913817294, 'scale_pos_weight': 6.9023680486660846}. Best is trial 82 with value: 0.970873786407767.\n",
      "[I 2025-08-03 18:03:09,406] Trial 89 finished with value: 0.9519230769230769 and parameters: {'max_depth': 9, 'learning_rate': 0.22314588516700182, 'n_estimators': 908, 'subsample': 0.8354142108155507, 'colsample_bytree': 0.7820735453220108, 'scale_pos_weight': 3.4218986558105833}. Best is trial 82 with value: 0.970873786407767.\n",
      "[I 2025-08-03 18:03:16,136] Trial 90 finished with value: 0.9339622641509434 and parameters: {'max_depth': 8, 'learning_rate': 0.20449914568093014, 'n_estimators': 391, 'subsample': 0.8308159691999052, 'colsample_bytree': 0.7884150588364025, 'scale_pos_weight': 3.2964396746321296}. Best is trial 82 with value: 0.970873786407767.\n",
      "[I 2025-08-03 18:03:29,895] Trial 91 finished with value: 0.9411764705882353 and parameters: {'max_depth': 9, 'learning_rate': 0.22391130211130375, 'n_estimators': 904, 'subsample': 0.8051627455761717, 'colsample_bytree': 0.739489602098673, 'scale_pos_weight': 2.5837329108053257}. Best is trial 82 with value: 0.970873786407767.\n",
      "[I 2025-08-03 18:03:44,435] Trial 92 finished with value: 0.9428571428571428 and parameters: {'max_depth': 9, 'learning_rate': 0.23472739549096636, 'n_estimators': 936, 'subsample': 0.785268677965863, 'colsample_bytree': 0.7913015388293798, 'scale_pos_weight': 1.5589304585771502}. Best is trial 82 with value: 0.970873786407767.\n",
      "[I 2025-08-03 18:03:56,621] Trial 93 finished with value: 0.9702970297029703 and parameters: {'max_depth': 10, 'learning_rate': 0.27822516060249064, 'n_estimators': 883, 'subsample': 0.8249343109472247, 'colsample_bytree': 0.7100915864778667, 'scale_pos_weight': 1.026645401836149}. Best is trial 82 with value: 0.970873786407767.\n",
      "[I 2025-08-03 18:04:07,218] Trial 94 finished with value: 0.9252336448598131 and parameters: {'max_depth': 9, 'learning_rate': 0.27586114275270024, 'n_estimators': 723, 'subsample': 0.8295534475193034, 'colsample_bytree': 0.7070916901072465, 'scale_pos_weight': 5.164135358705737}. Best is trial 82 with value: 0.970873786407767.\n",
      "[I 2025-08-03 18:04:20,155] Trial 95 finished with value: 0.9345794392523364 and parameters: {'max_depth': 8, 'learning_rate': 0.2875047072748907, 'n_estimators': 953, 'subsample': 0.8593668626816374, 'colsample_bytree': 0.6698914787772506, 'scale_pos_weight': 4.437864843938857}. Best is trial 82 with value: 0.970873786407767.\n",
      "[I 2025-08-03 18:04:32,787] Trial 96 finished with value: 0.9166666666666666 and parameters: {'max_depth': 10, 'learning_rate': 0.2634074126697326, 'n_estimators': 789, 'subsample': 0.8663155258628266, 'colsample_bytree': 0.7132164558579415, 'scale_pos_weight': 3.483144781404762}. Best is trial 82 with value: 0.970873786407767.\n",
      "[I 2025-08-03 18:04:45,704] Trial 97 finished with value: 0.9351851851851852 and parameters: {'max_depth': 10, 'learning_rate': 0.25403618766716873, 'n_estimators': 852, 'subsample': 0.8031580619170691, 'colsample_bytree': 0.8139785699513065, 'scale_pos_weight': 3.9798318673940343}. Best is trial 82 with value: 0.970873786407767.\n",
      "[I 2025-08-03 18:04:59,213] Trial 98 finished with value: 0.9333333333333333 and parameters: {'max_depth': 9, 'learning_rate': 0.2761544832416286, 'n_estimators': 977, 'subsample': 0.831412502515883, 'colsample_bytree': 0.7598929769766084, 'scale_pos_weight': 6.200428188458276}. Best is trial 82 with value: 0.970873786407767.\n",
      "[I 2025-08-03 18:05:11,336] Trial 99 finished with value: 0.9423076923076923 and parameters: {'max_depth': 10, 'learning_rate': 0.19475256883688546, 'n_estimators': 819, 'subsample': 0.8947577208285236, 'colsample_bytree': 0.7810474460663173, 'scale_pos_weight': 2.1145125284105633}. Best is trial 82 with value: 0.970873786407767.\n"
     ]
    },
    {
     "name": "stdout",
     "output_type": "stream",
     "text": [
      "Best trial:\n",
      "  Value: 0.970873786407767\n",
      "  Params: \n",
      "    max_depth: 9\n",
      "    learning_rate: 0.24474552856185788\n",
      "    n_estimators: 823\n",
      "    subsample: 0.7678665990669592\n",
      "    colsample_bytree: 0.6394395082216124\n",
      "    scale_pos_weight: 1.1210220304638547\n"
     ]
    }
   ],
   "source": [
    "# Définir la fonction objectif\n",
    "def objective(trial):\n",
    "    # Définir les hyperparamètres à optimiser\n",
    "    params = {\n",
    "        'max_depth': trial.suggest_int(\"max_depth\", 3, 12),\n",
    "        'learning_rate': trial.suggest_float(\"learning_rate\", 0.01, 0.3),\n",
    "        'n_estimators': trial.suggest_int(\"n_estimators\", 100, 1000),\n",
    "        'subsample': trial.suggest_float(\"subsample\", 0.5, 1.0),\n",
    "        'colsample_bytree': trial.suggest_float(\"colsample_bytree\", 0.5, 1.0),\n",
    "        'scale_pos_weight': trial.suggest_float(\"scale_pos_weight\", 1, 20),\n",
    "        'random_rate': 42\n",
    "    }\n",
    "\n",
    "\n",
    "    # Créer le modèle\n",
    "    model = XGBClassifier(**params)\n",
    "    model.fit(X_train,y_train)\n",
    "    y_pred = model.predict(X_test)\n",
    "\n",
    "    # Évaluer le modèle\n",
    "    #score = cross_val_score(model, X_train, y_train, n_jobs=-1, cv=3)\n",
    "    \n",
    "\n",
    "    return precision_score(y_test, y_pred)\n",
    "\n",
    "# Créer une étude\n",
    "study = optuna.create_study(direction='maximize')\n",
    "\n",
    "# Optimiser la fonction objectif\n",
    "study.optimize(objective, n_trials=100)\n",
    "\n",
    "# Afficher les résultats\n",
    "print(\"Best trial:\")\n",
    "trial = study.best_trial\n",
    "print(f\"  Value: {trial.value}\")\n",
    "print(\"  Params: \")\n",
    "for key, value in trial.params.items():\n",
    "    print(f\"    {key}: {value}\")"
   ]
  },
  {
   "cell_type": "code",
   "execution_count": 57,
   "metadata": {},
   "outputs": [
    {
     "name": "stdout",
     "output_type": "stream",
     "text": [
      "Precision: 0.971\n",
      "Recall: 0.813\n",
      "F1 Score: 0.885\n",
      "ROC_AUC Score: 0.906\n",
      "PR AUC: 0.790\n",
      "              precision    recall  f1-score   support\n",
      "\n",
      "           0      1.000     1.000     1.000     71079\n",
      "           1      0.971     0.813     0.885       123\n",
      "\n",
      "    accuracy                          1.000     71202\n",
      "   macro avg      0.985     0.906     0.942     71202\n",
      "weighted avg      1.000     1.000     1.000     71202\n",
      "\n",
      "------\n"
     ]
    }
   ],
   "source": [
    "best_params = study.best_params\n",
    "final_model = XGBClassifier(**best_params)\n",
    "final_model.fit(X_train, y_train)\n",
    "y_pred = final_model.predict(X_test)\n",
    "\n",
    "print(f\"Precision: {precision_score(y_test, y_pred):.3f}\")\n",
    "print(f\"Recall: {recall_score(y_test, y_pred):.3f}\")\n",
    "print(f\"F1 Score: {f1_score(y_test, y_pred):.3f}\")\n",
    "print(f\"ROC_AUC Score: {roc_auc_score(y_test, y_pred):.3f}\")\n",
    "print(f\"PR AUC: {average_precision_score(y_test, y_pred):.3f}\")\n",
    "print(classification_report(y_test, y_pred, digits=3))\n",
    "print(\"------\")"
   ]
  },
  {
   "cell_type": "code",
   "execution_count": 55,
   "metadata": {},
   "outputs": [
    {
     "data": {
      "image/png": "[encoded data removed]",
      "text/plain": [
       "<Figure size 500x500 with 2 Axes>"
      ]
     },
     "metadata": {},
     "output_type": "display_data"
    }
   ],
   "source": [
    "cm = pd.crosstab(y_test, y_pred, rownames=['Actual'], colnames=['Predicted'])\n",
    "fig, (ax1) = plt.subplots(ncols=1, figsize=(5,5))\n",
    "sn.heatmap(cm, \n",
    "            xticklabels=['Not Fraud', 'Fraud'],\n",
    "            yticklabels=['Not Fraud', 'Fraud'],\n",
    "            fmt='d',\n",
    "            annot=True,ax=ax1,\n",
    "            linewidths=.2,linecolor=\"Darkblue\", cmap=\"Blues\")\n",
    "plt.title('Confusion Matrix', fontsize=14)\n",
    "plt.show()"
   ]
  },
  {
   "cell_type": "code",
   "execution_count": null,
   "metadata": {},
   "outputs": [],
   "source": []
  }
 ],
 "metadata": {
  "kernelspec": {
   "display_name": "Python (venv)",
   "language": "python",
   "name": "venv"
  },
  "language_info": {
   "codemirror_mode": {
    "name": "ipython",
    "version": 3
   },
   "file_extension": ".py",
   "mimetype": "text/x-python",
   "name": "python",
   "nbconvert_exporter": "python",
   "pygments_lexer": "ipython3",
   "version": "3.12.10"
  }
 },
 "nbformat": 4,
 "nbformat_minor": 4
}
