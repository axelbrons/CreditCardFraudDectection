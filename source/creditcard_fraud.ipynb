{
 "cells": [
  {
   "cell_type": "markdown",
   "metadata": {},
   "source": [
    "# Data Visualisation"
   ]
  },
  {
   "cell_type": "code",
   "execution_count": 14,
   "metadata": {
    "ExecuteTime": {
     "end_time": "2025-08-02T15:30:25.316140800Z",
     "start_time": "2025-08-02T15:30:25.294959800Z"
    }
   },
   "outputs": [],
   "source": [
    "import pandas as pd\n",
    "import matplotlib.pyplot as plt\n",
    "import seaborn as sn"
   ]
  },
  {
   "cell_type": "markdown",
   "metadata": {},
   "source": [
    "Trying to delete na values and duplicate values"
   ]
  },
  {
   "cell_type": "code",
   "execution_count": 15,
   "metadata": {
    "collapsed": false,
    "jupyter": {
     "outputs_hidden": false
    }
   },
   "outputs": [
    {
     "name": "stdout",
     "output_type": "stream",
     "text": [
      "(284807, 31)\n"
     ]
    },
    {
     "data": {
      "text/html": [
       "<div>\n",
       "<style scoped>\n",
       "    .dataframe tbody tr th:only-of-type {\n",
       "        vertical-align: middle;\n",
       "    }\n",
       "\n",
       "    .dataframe tbody tr th {\n",
       "        vertical-align: top;\n",
       "    }\n",
       "\n",
       "    .dataframe thead th {\n",
       "        text-align: right;\n",
       "    }\n",
       "</style>\n",
       "<table border=\"1\" class=\"dataframe\">\n",
       "  <thead>\n",
       "    <tr style=\"text-align: right;\">\n",
       "      <th></th>\n",
       "      <th>Time</th>\n",
       "      <th>V1</th>\n",
       "      <th>V2</th>\n",
       "      <th>V3</th>\n",
       "      <th>V4</th>\n",
       "      <th>V5</th>\n",
       "      <th>V6</th>\n",
       "      <th>V7</th>\n",
       "      <th>V8</th>\n",
       "      <th>V9</th>\n",
       "      <th>...</th>\n",
       "      <th>V21</th>\n",
       "      <th>V22</th>\n",
       "      <th>V23</th>\n",
       "      <th>V24</th>\n",
       "      <th>V25</th>\n",
       "      <th>V26</th>\n",
       "      <th>V27</th>\n",
       "      <th>V28</th>\n",
       "      <th>Amount</th>\n",
       "      <th>Class</th>\n",
       "    </tr>\n",
       "  </thead>\n",
       "  <tbody>\n",
       "    <tr>\n",
       "      <th>0</th>\n",
       "      <td>0.0</td>\n",
       "      <td>-1.359807</td>\n",
       "      <td>-0.072781</td>\n",
       "      <td>2.536347</td>\n",
       "      <td>1.378155</td>\n",
       "      <td>-0.338321</td>\n",
       "      <td>0.462388</td>\n",
       "      <td>0.239599</td>\n",
       "      <td>0.098698</td>\n",
       "      <td>0.363787</td>\n",
       "      <td>...</td>\n",
       "      <td>-0.018307</td>\n",
       "      <td>0.277838</td>\n",
       "      <td>-0.110474</td>\n",
       "      <td>0.066928</td>\n",
       "      <td>0.128539</td>\n",
       "      <td>-0.189115</td>\n",
       "      <td>0.133558</td>\n",
       "      <td>-0.021053</td>\n",
       "      <td>149.62</td>\n",
       "      <td>0</td>\n",
       "    </tr>\n",
       "    <tr>\n",
       "      <th>1</th>\n",
       "      <td>0.0</td>\n",
       "      <td>1.191857</td>\n",
       "      <td>0.266151</td>\n",
       "      <td>0.166480</td>\n",
       "      <td>0.448154</td>\n",
       "      <td>0.060018</td>\n",
       "      <td>-0.082361</td>\n",
       "      <td>-0.078803</td>\n",
       "      <td>0.085102</td>\n",
       "      <td>-0.255425</td>\n",
       "      <td>...</td>\n",
       "      <td>-0.225775</td>\n",
       "      <td>-0.638672</td>\n",
       "      <td>0.101288</td>\n",
       "      <td>-0.339846</td>\n",
       "      <td>0.167170</td>\n",
       "      <td>0.125895</td>\n",
       "      <td>-0.008983</td>\n",
       "      <td>0.014724</td>\n",
       "      <td>2.69</td>\n",
       "      <td>0</td>\n",
       "    </tr>\n",
       "    <tr>\n",
       "      <th>2</th>\n",
       "      <td>1.0</td>\n",
       "      <td>-1.358354</td>\n",
       "      <td>-1.340163</td>\n",
       "      <td>1.773209</td>\n",
       "      <td>0.379780</td>\n",
       "      <td>-0.503198</td>\n",
       "      <td>1.800499</td>\n",
       "      <td>0.791461</td>\n",
       "      <td>0.247676</td>\n",
       "      <td>-1.514654</td>\n",
       "      <td>...</td>\n",
       "      <td>0.247998</td>\n",
       "      <td>0.771679</td>\n",
       "      <td>0.909412</td>\n",
       "      <td>-0.689281</td>\n",
       "      <td>-0.327642</td>\n",
       "      <td>-0.139097</td>\n",
       "      <td>-0.055353</td>\n",
       "      <td>-0.059752</td>\n",
       "      <td>378.66</td>\n",
       "      <td>0</td>\n",
       "    </tr>\n",
       "    <tr>\n",
       "      <th>3</th>\n",
       "      <td>1.0</td>\n",
       "      <td>-0.966272</td>\n",
       "      <td>-0.185226</td>\n",
       "      <td>1.792993</td>\n",
       "      <td>-0.863291</td>\n",
       "      <td>-0.010309</td>\n",
       "      <td>1.247203</td>\n",
       "      <td>0.237609</td>\n",
       "      <td>0.377436</td>\n",
       "      <td>-1.387024</td>\n",
       "      <td>...</td>\n",
       "      <td>-0.108300</td>\n",
       "      <td>0.005274</td>\n",
       "      <td>-0.190321</td>\n",
       "      <td>-1.175575</td>\n",
       "      <td>0.647376</td>\n",
       "      <td>-0.221929</td>\n",
       "      <td>0.062723</td>\n",
       "      <td>0.061458</td>\n",
       "      <td>123.50</td>\n",
       "      <td>0</td>\n",
       "    </tr>\n",
       "    <tr>\n",
       "      <th>4</th>\n",
       "      <td>2.0</td>\n",
       "      <td>-1.158233</td>\n",
       "      <td>0.877737</td>\n",
       "      <td>1.548718</td>\n",
       "      <td>0.403034</td>\n",
       "      <td>-0.407193</td>\n",
       "      <td>0.095921</td>\n",
       "      <td>0.592941</td>\n",
       "      <td>-0.270533</td>\n",
       "      <td>0.817739</td>\n",
       "      <td>...</td>\n",
       "      <td>-0.009431</td>\n",
       "      <td>0.798278</td>\n",
       "      <td>-0.137458</td>\n",
       "      <td>0.141267</td>\n",
       "      <td>-0.206010</td>\n",
       "      <td>0.502292</td>\n",
       "      <td>0.219422</td>\n",
       "      <td>0.215153</td>\n",
       "      <td>69.99</td>\n",
       "      <td>0</td>\n",
       "    </tr>\n",
       "    <tr>\n",
       "      <th>5</th>\n",
       "      <td>2.0</td>\n",
       "      <td>-0.425966</td>\n",
       "      <td>0.960523</td>\n",
       "      <td>1.141109</td>\n",
       "      <td>-0.168252</td>\n",
       "      <td>0.420987</td>\n",
       "      <td>-0.029728</td>\n",
       "      <td>0.476201</td>\n",
       "      <td>0.260314</td>\n",
       "      <td>-0.568671</td>\n",
       "      <td>...</td>\n",
       "      <td>-0.208254</td>\n",
       "      <td>-0.559825</td>\n",
       "      <td>-0.026398</td>\n",
       "      <td>-0.371427</td>\n",
       "      <td>-0.232794</td>\n",
       "      <td>0.105915</td>\n",
       "      <td>0.253844</td>\n",
       "      <td>0.081080</td>\n",
       "      <td>3.67</td>\n",
       "      <td>0</td>\n",
       "    </tr>\n",
       "    <tr>\n",
       "      <th>6</th>\n",
       "      <td>4.0</td>\n",
       "      <td>1.229658</td>\n",
       "      <td>0.141004</td>\n",
       "      <td>0.045371</td>\n",
       "      <td>1.202613</td>\n",
       "      <td>0.191881</td>\n",
       "      <td>0.272708</td>\n",
       "      <td>-0.005159</td>\n",
       "      <td>0.081213</td>\n",
       "      <td>0.464960</td>\n",
       "      <td>...</td>\n",
       "      <td>-0.167716</td>\n",
       "      <td>-0.270710</td>\n",
       "      <td>-0.154104</td>\n",
       "      <td>-0.780055</td>\n",
       "      <td>0.750137</td>\n",
       "      <td>-0.257237</td>\n",
       "      <td>0.034507</td>\n",
       "      <td>0.005168</td>\n",
       "      <td>4.99</td>\n",
       "      <td>0</td>\n",
       "    </tr>\n",
       "    <tr>\n",
       "      <th>7</th>\n",
       "      <td>7.0</td>\n",
       "      <td>-0.644269</td>\n",
       "      <td>1.417964</td>\n",
       "      <td>1.074380</td>\n",
       "      <td>-0.492199</td>\n",
       "      <td>0.948934</td>\n",
       "      <td>0.428118</td>\n",
       "      <td>1.120631</td>\n",
       "      <td>-3.807864</td>\n",
       "      <td>0.615375</td>\n",
       "      <td>...</td>\n",
       "      <td>1.943465</td>\n",
       "      <td>-1.015455</td>\n",
       "      <td>0.057504</td>\n",
       "      <td>-0.649709</td>\n",
       "      <td>-0.415267</td>\n",
       "      <td>-0.051634</td>\n",
       "      <td>-1.206921</td>\n",
       "      <td>-1.085339</td>\n",
       "      <td>40.80</td>\n",
       "      <td>0</td>\n",
       "    </tr>\n",
       "    <tr>\n",
       "      <th>8</th>\n",
       "      <td>7.0</td>\n",
       "      <td>-0.894286</td>\n",
       "      <td>0.286157</td>\n",
       "      <td>-0.113192</td>\n",
       "      <td>-0.271526</td>\n",
       "      <td>2.669599</td>\n",
       "      <td>3.721818</td>\n",
       "      <td>0.370145</td>\n",
       "      <td>0.851084</td>\n",
       "      <td>-0.392048</td>\n",
       "      <td>...</td>\n",
       "      <td>-0.073425</td>\n",
       "      <td>-0.268092</td>\n",
       "      <td>-0.204233</td>\n",
       "      <td>1.011592</td>\n",
       "      <td>0.373205</td>\n",
       "      <td>-0.384157</td>\n",
       "      <td>0.011747</td>\n",
       "      <td>0.142404</td>\n",
       "      <td>93.20</td>\n",
       "      <td>0</td>\n",
       "    </tr>\n",
       "    <tr>\n",
       "      <th>9</th>\n",
       "      <td>9.0</td>\n",
       "      <td>-0.338262</td>\n",
       "      <td>1.119593</td>\n",
       "      <td>1.044367</td>\n",
       "      <td>-0.222187</td>\n",
       "      <td>0.499361</td>\n",
       "      <td>-0.246761</td>\n",
       "      <td>0.651583</td>\n",
       "      <td>0.069539</td>\n",
       "      <td>-0.736727</td>\n",
       "      <td>...</td>\n",
       "      <td>-0.246914</td>\n",
       "      <td>-0.633753</td>\n",
       "      <td>-0.120794</td>\n",
       "      <td>-0.385050</td>\n",
       "      <td>-0.069733</td>\n",
       "      <td>0.094199</td>\n",
       "      <td>0.246219</td>\n",
       "      <td>0.083076</td>\n",
       "      <td>3.68</td>\n",
       "      <td>0</td>\n",
       "    </tr>\n",
       "  </tbody>\n",
       "</table>\n",
       "<p>10 rows × 31 columns</p>\n",
       "</div>"
      ],
      "text/plain": [
       "   Time        V1        V2        V3        V4        V5        V6        V7  \\\n",
       "0   0.0 -1.359807 -0.072781  2.536347  1.378155 -0.338321  0.462388  0.239599   \n",
       "1   0.0  1.191857  0.266151  0.166480  0.448154  0.060018 -0.082361 -0.078803   \n",
       "2   1.0 -1.358354 -1.340163  1.773209  0.379780 -0.503198  1.800499  0.791461   \n",
       "3   1.0 -0.966272 -0.185226  1.792993 -0.863291 -0.010309  1.247203  0.237609   \n",
       "4   2.0 -1.158233  0.877737  1.548718  0.403034 -0.407193  0.095921  0.592941   \n",
       "5   2.0 -0.425966  0.960523  1.141109 -0.168252  0.420987 -0.029728  0.476201   \n",
       "6   4.0  1.229658  0.141004  0.045371  1.202613  0.191881  0.272708 -0.005159   \n",
       "7   7.0 -0.644269  1.417964  1.074380 -0.492199  0.948934  0.428118  1.120631   \n",
       "8   7.0 -0.894286  0.286157 -0.113192 -0.271526  2.669599  3.721818  0.370145   \n",
       "9   9.0 -0.338262  1.119593  1.044367 -0.222187  0.499361 -0.246761  0.651583   \n",
       "\n",
       "         V8        V9  ...       V21       V22       V23       V24       V25  \\\n",
       "0  0.098698  0.363787  ... -0.018307  0.277838 -0.110474  0.066928  0.128539   \n",
       "1  0.085102 -0.255425  ... -0.225775 -0.638672  0.101288 -0.339846  0.167170   \n",
       "2  0.247676 -1.514654  ...  0.247998  0.771679  0.909412 -0.689281 -0.327642   \n",
       "3  0.377436 -1.387024  ... -0.108300  0.005274 -0.190321 -1.175575  0.647376   \n",
       "4 -0.270533  0.817739  ... -0.009431  0.798278 -0.137458  0.141267 -0.206010   \n",
       "5  0.260314 -0.568671  ... -0.208254 -0.559825 -0.026398 -0.371427 -0.232794   \n",
       "6  0.081213  0.464960  ... -0.167716 -0.270710 -0.154104 -0.780055  0.750137   \n",
       "7 -3.807864  0.615375  ...  1.943465 -1.015455  0.057504 -0.649709 -0.415267   \n",
       "8  0.851084 -0.392048  ... -0.073425 -0.268092 -0.204233  1.011592  0.373205   \n",
       "9  0.069539 -0.736727  ... -0.246914 -0.633753 -0.120794 -0.385050 -0.069733   \n",
       "\n",
       "        V26       V27       V28  Amount  Class  \n",
       "0 -0.189115  0.133558 -0.021053  149.62      0  \n",
       "1  0.125895 -0.008983  0.014724    2.69      0  \n",
       "2 -0.139097 -0.055353 -0.059752  378.66      0  \n",
       "3 -0.221929  0.062723  0.061458  123.50      0  \n",
       "4  0.502292  0.219422  0.215153   69.99      0  \n",
       "5  0.105915  0.253844  0.081080    3.67      0  \n",
       "6 -0.257237  0.034507  0.005168    4.99      0  \n",
       "7 -0.051634 -1.206921 -1.085339   40.80      0  \n",
       "8 -0.384157  0.011747  0.142404   93.20      0  \n",
       "9  0.094199  0.246219  0.083076    3.68      0  \n",
       "\n",
       "[10 rows x 31 columns]"
      ]
     },
     "execution_count": 15,
     "metadata": {},
     "output_type": "execute_result"
    }
   ],
   "source": [
    "df = pd.read_csv(\"creditcard.csv\")\n",
    "#df.info\n",
    "df_without_na = df.dropna()\n",
    "df_without_duplicate = df.drop_duplicates()\n",
    "print(df.shape)\n",
    "df.head(10)"
   ]
  },
  {
   "cell_type": "code",
   "execution_count": 16,
   "metadata": {},
   "outputs": [
    {
     "name": "stdout",
     "output_type": "stream",
     "text": [
      "Number of frauds in the dataset :  492\n",
      "Number of no-frauds :  284807\n",
      "Percentage of frauds :  0.17 %\n",
      "Percentage of no-frauds :  99.83 %\n"
     ]
    }
   ],
   "source": [
    "X = df.drop(\"Class\",axis=1)\n",
    "y = df[\"Class\"]\n",
    "print(\"Number of frauds in the dataset : \",(y==1).sum())\n",
    "print(\"Number of no-frauds : \",len(y))\n",
    "print(\"Percentage of frauds : \", round((y.sum() / len(y))*100,2),\"%\")\n",
    "print(\"Percentage of no-frauds : \", round((1 - (y.sum() / len(y)))*100,2) ,\"%\")"
   ]
  },
  {
   "cell_type": "markdown",
   "metadata": {},
   "source": [
    "Understanding the correlation between variables that we can see, in this case variables 'time', 'Amount', 'Class'."
   ]
  },
  {
   "cell_type": "code",
   "execution_count": 17,
   "metadata": {
    "collapsed": false,
    "jupyter": {
     "outputs_hidden": false
    }
   },
   "outputs": [
    {
     "data": {
      "text/html": [
       "<div>\n",
       "<style scoped>\n",
       "    .dataframe tbody tr th:only-of-type {\n",
       "        vertical-align: middle;\n",
       "    }\n",
       "\n",
       "    .dataframe tbody tr th {\n",
       "        vertical-align: top;\n",
       "    }\n",
       "\n",
       "    .dataframe thead th {\n",
       "        text-align: right;\n",
       "    }\n",
       "</style>\n",
       "<table border=\"1\" class=\"dataframe\">\n",
       "  <thead>\n",
       "    <tr style=\"text-align: right;\">\n",
       "      <th></th>\n",
       "      <th>Time</th>\n",
       "      <th>Amount</th>\n",
       "      <th>Class</th>\n",
       "    </tr>\n",
       "  </thead>\n",
       "  <tbody>\n",
       "    <tr>\n",
       "      <th>0</th>\n",
       "      <td>0.0</td>\n",
       "      <td>149.62</td>\n",
       "      <td>0</td>\n",
       "    </tr>\n",
       "    <tr>\n",
       "      <th>1</th>\n",
       "      <td>0.0</td>\n",
       "      <td>2.69</td>\n",
       "      <td>0</td>\n",
       "    </tr>\n",
       "    <tr>\n",
       "      <th>2</th>\n",
       "      <td>1.0</td>\n",
       "      <td>378.66</td>\n",
       "      <td>0</td>\n",
       "    </tr>\n",
       "    <tr>\n",
       "      <th>3</th>\n",
       "      <td>1.0</td>\n",
       "      <td>123.50</td>\n",
       "      <td>0</td>\n",
       "    </tr>\n",
       "    <tr>\n",
       "      <th>4</th>\n",
       "      <td>2.0</td>\n",
       "      <td>69.99</td>\n",
       "      <td>0</td>\n",
       "    </tr>\n",
       "    <tr>\n",
       "      <th>5</th>\n",
       "      <td>2.0</td>\n",
       "      <td>3.67</td>\n",
       "      <td>0</td>\n",
       "    </tr>\n",
       "    <tr>\n",
       "      <th>6</th>\n",
       "      <td>4.0</td>\n",
       "      <td>4.99</td>\n",
       "      <td>0</td>\n",
       "    </tr>\n",
       "    <tr>\n",
       "      <th>7</th>\n",
       "      <td>7.0</td>\n",
       "      <td>40.80</td>\n",
       "      <td>0</td>\n",
       "    </tr>\n",
       "    <tr>\n",
       "      <th>8</th>\n",
       "      <td>7.0</td>\n",
       "      <td>93.20</td>\n",
       "      <td>0</td>\n",
       "    </tr>\n",
       "    <tr>\n",
       "      <th>9</th>\n",
       "      <td>9.0</td>\n",
       "      <td>3.68</td>\n",
       "      <td>0</td>\n",
       "    </tr>\n",
       "  </tbody>\n",
       "</table>\n",
       "</div>"
      ],
      "text/plain": [
       "   Time  Amount  Class\n",
       "0   0.0  149.62      0\n",
       "1   0.0    2.69      0\n",
       "2   1.0  378.66      0\n",
       "3   1.0  123.50      0\n",
       "4   2.0   69.99      0\n",
       "5   2.0    3.67      0\n",
       "6   4.0    4.99      0\n",
       "7   7.0   40.80      0\n",
       "8   7.0   93.20      0\n",
       "9   9.0    3.68      0"
      ]
     },
     "execution_count": 17,
     "metadata": {},
     "output_type": "execute_result"
    }
   ],
   "source": [
    "df_without_v = df[[\"Time\", \"Amount\", \"Class\"]]\n",
    "df_without_v.head(10)\n",
    "#df_without_v.info"
   ]
  },
  {
   "cell_type": "code",
   "execution_count": 18,
   "metadata": {
    "collapsed": false,
    "jupyter": {
     "outputs_hidden": false
    }
   },
   "outputs": [
    {
     "data": {
      "text/plain": [
       "<seaborn.axisgrid.PairGrid at 0x266d817ad20>"
      ]
     },
     "execution_count": 18,
     "metadata": {},
     "output_type": "execute_result"
    },
    {
     "data": {
      "image/png": "[encoded data removed]",
      "text/plain": [
       "<Figure size 558.875x500 with 6 Axes>"
      ]
     },
     "metadata": {},
     "output_type": "display_data"
    }
   ],
   "source": [
    "sn.pairplot(df_without_v, hue='Class')"
   ]
  },
  {
   "cell_type": "code",
   "execution_count": 19,
   "metadata": {
    "collapsed": false,
    "jupyter": {
     "outputs_hidden": false
    }
   },
   "outputs": [
    {
     "data": {
      "image/png": "[encoded data removed]",
      "text/plain": [
       "<Figure size 640x480 with 1 Axes>"
      ]
     },
     "metadata": {},
     "output_type": "display_data"
    }
   ],
   "source": [
    "plt.scatter(df_without_v[\"Time\"],df_without_v[\"Amount\"])\n",
    "plt.show()"
   ]
  },
  {
   "cell_type": "code",
   "execution_count": 20,
   "metadata": {
    "collapsed": false,
    "jupyter": {
     "outputs_hidden": false
    }
   },
   "outputs": [
    {
     "data": {
      "image/png": "[encoded data removed]",
      "text/plain": [
       "<Figure size 640x480 with 1 Axes>"
      ]
     },
     "metadata": {},
     "output_type": "display_data"
    }
   ],
   "source": [
    "#plt.scatter(df[\"Time\"], df[\"Amount\"], color='blue', label='Non-fraud')\n",
    "df_class_1 = df[df['Class'] == 1]\n",
    "plt.scatter(df_class_1[\"Time\"],df_class_1[\"Amount\"], color='red', label='Fraud')\n",
    "plt.xlabel('Time')\n",
    "plt.ylabel('Amount')\n",
    "plt.legend()\n",
    "plt.show()"
   ]
  },
  {
   "cell_type": "code",
   "execution_count": 21,
   "metadata": {
    "collapsed": false,
    "jupyter": {
     "outputs_hidden": false
    }
   },
   "outputs": [
    {
     "data": {
      "image/png": "[encoded data removed]",
      "text/plain": [
       "<Figure size 640x480 with 1 Axes>"
      ]
     },
     "metadata": {},
     "output_type": "display_data"
    }
   ],
   "source": [
    "df_class_1 = df[df['Class'] == 1]\n",
    "df_class_0 = df[df['Class'] == 0]\n",
    "plt.scatter(df_class_0[\"Time\"],df_class_0[\"Amount\"], color='blue', label='Non-Fraud')\n",
    "plt.scatter(df_class_1[\"Time\"],df_class_1[\"Amount\"], color='red', label='Fraud')\n",
    "plt.xlabel('Time')\n",
    "plt.ylabel('Amount')\n",
    "plt.legend()\n",
    "plt.show()"
   ]
  },
  {
   "cell_type": "markdown",
   "metadata": {
    "collapsed": false,
    "jupyter": {
     "outputs_hidden": false
    }
   },
   "source": [
    "First, we can see with simple EDA, there are outliners that we can't really delete, the dataset is really unbalanced and we can't really know what is inside the V column."
   ]
  },
  {
   "cell_type": "markdown",
   "metadata": {},
   "source": [
    "Now we want to understand the correlation between the V classes and the rest of the variables."
   ]
  },
  {
   "cell_type": "code",
   "execution_count": 22,
   "metadata": {
    "collapsed": false,
    "jupyter": {
     "outputs_hidden": false
    }
   },
   "outputs": [
    {
     "data": {
      "text/html": [
       "<div>\n",
       "<style scoped>\n",
       "    .dataframe tbody tr th:only-of-type {\n",
       "        vertical-align: middle;\n",
       "    }\n",
       "\n",
       "    .dataframe tbody tr th {\n",
       "        vertical-align: top;\n",
       "    }\n",
       "\n",
       "    .dataframe thead th {\n",
       "        text-align: right;\n",
       "    }\n",
       "</style>\n",
       "<table border=\"1\" class=\"dataframe\">\n",
       "  <thead>\n",
       "    <tr style=\"text-align: right;\">\n",
       "      <th></th>\n",
       "      <th>Time</th>\n",
       "      <th>Amount</th>\n",
       "      <th>Class</th>\n",
       "      <th>V1</th>\n",
       "      <th>V2</th>\n",
       "      <th>V3</th>\n",
       "      <th>V4</th>\n",
       "      <th>V5</th>\n",
       "      <th>V6</th>\n",
       "    </tr>\n",
       "  </thead>\n",
       "  <tbody>\n",
       "    <tr>\n",
       "      <th>0</th>\n",
       "      <td>0.0</td>\n",
       "      <td>149.62</td>\n",
       "      <td>0</td>\n",
       "      <td>-1.359807</td>\n",
       "      <td>-0.072781</td>\n",
       "      <td>2.536347</td>\n",
       "      <td>1.378155</td>\n",
       "      <td>-0.338321</td>\n",
       "      <td>0.462388</td>\n",
       "    </tr>\n",
       "    <tr>\n",
       "      <th>1</th>\n",
       "      <td>0.0</td>\n",
       "      <td>2.69</td>\n",
       "      <td>0</td>\n",
       "      <td>1.191857</td>\n",
       "      <td>0.266151</td>\n",
       "      <td>0.166480</td>\n",
       "      <td>0.448154</td>\n",
       "      <td>0.060018</td>\n",
       "      <td>-0.082361</td>\n",
       "    </tr>\n",
       "    <tr>\n",
       "      <th>2</th>\n",
       "      <td>1.0</td>\n",
       "      <td>378.66</td>\n",
       "      <td>0</td>\n",
       "      <td>-1.358354</td>\n",
       "      <td>-1.340163</td>\n",
       "      <td>1.773209</td>\n",
       "      <td>0.379780</td>\n",
       "      <td>-0.503198</td>\n",
       "      <td>1.800499</td>\n",
       "    </tr>\n",
       "    <tr>\n",
       "      <th>3</th>\n",
       "      <td>1.0</td>\n",
       "      <td>123.50</td>\n",
       "      <td>0</td>\n",
       "      <td>-0.966272</td>\n",
       "      <td>-0.185226</td>\n",
       "      <td>1.792993</td>\n",
       "      <td>-0.863291</td>\n",
       "      <td>-0.010309</td>\n",
       "      <td>1.247203</td>\n",
       "    </tr>\n",
       "    <tr>\n",
       "      <th>4</th>\n",
       "      <td>2.0</td>\n",
       "      <td>69.99</td>\n",
       "      <td>0</td>\n",
       "      <td>-1.158233</td>\n",
       "      <td>0.877737</td>\n",
       "      <td>1.548718</td>\n",
       "      <td>0.403034</td>\n",
       "      <td>-0.407193</td>\n",
       "      <td>0.095921</td>\n",
       "    </tr>\n",
       "    <tr>\n",
       "      <th>5</th>\n",
       "      <td>2.0</td>\n",
       "      <td>3.67</td>\n",
       "      <td>0</td>\n",
       "      <td>-0.425966</td>\n",
       "      <td>0.960523</td>\n",
       "      <td>1.141109</td>\n",
       "      <td>-0.168252</td>\n",
       "      <td>0.420987</td>\n",
       "      <td>-0.029728</td>\n",
       "    </tr>\n",
       "    <tr>\n",
       "      <th>6</th>\n",
       "      <td>4.0</td>\n",
       "      <td>4.99</td>\n",
       "      <td>0</td>\n",
       "      <td>1.229658</td>\n",
       "      <td>0.141004</td>\n",
       "      <td>0.045371</td>\n",
       "      <td>1.202613</td>\n",
       "      <td>0.191881</td>\n",
       "      <td>0.272708</td>\n",
       "    </tr>\n",
       "    <tr>\n",
       "      <th>7</th>\n",
       "      <td>7.0</td>\n",
       "      <td>40.80</td>\n",
       "      <td>0</td>\n",
       "      <td>-0.644269</td>\n",
       "      <td>1.417964</td>\n",
       "      <td>1.074380</td>\n",
       "      <td>-0.492199</td>\n",
       "      <td>0.948934</td>\n",
       "      <td>0.428118</td>\n",
       "    </tr>\n",
       "    <tr>\n",
       "      <th>8</th>\n",
       "      <td>7.0</td>\n",
       "      <td>93.20</td>\n",
       "      <td>0</td>\n",
       "      <td>-0.894286</td>\n",
       "      <td>0.286157</td>\n",
       "      <td>-0.113192</td>\n",
       "      <td>-0.271526</td>\n",
       "      <td>2.669599</td>\n",
       "      <td>3.721818</td>\n",
       "    </tr>\n",
       "    <tr>\n",
       "      <th>9</th>\n",
       "      <td>9.0</td>\n",
       "      <td>3.68</td>\n",
       "      <td>0</td>\n",
       "      <td>-0.338262</td>\n",
       "      <td>1.119593</td>\n",
       "      <td>1.044367</td>\n",
       "      <td>-0.222187</td>\n",
       "      <td>0.499361</td>\n",
       "      <td>-0.246761</td>\n",
       "    </tr>\n",
       "  </tbody>\n",
       "</table>\n",
       "</div>"
      ],
      "text/plain": [
       "   Time  Amount  Class        V1        V2        V3        V4        V5  \\\n",
       "0   0.0  149.62      0 -1.359807 -0.072781  2.536347  1.378155 -0.338321   \n",
       "1   0.0    2.69      0  1.191857  0.266151  0.166480  0.448154  0.060018   \n",
       "2   1.0  378.66      0 -1.358354 -1.340163  1.773209  0.379780 -0.503198   \n",
       "3   1.0  123.50      0 -0.966272 -0.185226  1.792993 -0.863291 -0.010309   \n",
       "4   2.0   69.99      0 -1.158233  0.877737  1.548718  0.403034 -0.407193   \n",
       "5   2.0    3.67      0 -0.425966  0.960523  1.141109 -0.168252  0.420987   \n",
       "6   4.0    4.99      0  1.229658  0.141004  0.045371  1.202613  0.191881   \n",
       "7   7.0   40.80      0 -0.644269  1.417964  1.074380 -0.492199  0.948934   \n",
       "8   7.0   93.20      0 -0.894286  0.286157 -0.113192 -0.271526  2.669599   \n",
       "9   9.0    3.68      0 -0.338262  1.119593  1.044367 -0.222187  0.499361   \n",
       "\n",
       "         V6  \n",
       "0  0.462388  \n",
       "1 -0.082361  \n",
       "2  1.800499  \n",
       "3  1.247203  \n",
       "4  0.095921  \n",
       "5 -0.029728  \n",
       "6  0.272708  \n",
       "7  0.428118  \n",
       "8  3.721818  \n",
       "9 -0.246761  "
      ]
     },
     "execution_count": 22,
     "metadata": {},
     "output_type": "execute_result"
    }
   ],
   "source": [
    "df_with_6v = df[[\"Time\", \"Amount\", \"Class\",\"V1\",\"V2\",\"V3\",\"V4\",\"V5\",\"V6\"]]\n",
    "df_with_6v.head(10)"
   ]
  },
  {
   "cell_type": "code",
   "execution_count": 23,
   "metadata": {
    "collapsed": false,
    "jupyter": {
     "outputs_hidden": false
    }
   },
   "outputs": [
    {
     "data": {
      "text/plain": [
       "<Axes: >"
      ]
     },
     "execution_count": 23,
     "metadata": {},
     "output_type": "execute_result"
    },
    {
     "data": {
      "image/png": "[encoded data removed]",
      "text/plain": [
       "<Figure size 640x480 with 2 Axes>"
      ]
     },
     "metadata": {},
     "output_type": "display_data"
    }
   ],
   "source": [
    "corr = df.corr(numeric_only=True)\n",
    "sn.heatmap(corr, cmap='coolwarm')"
   ]
  },
  {
   "cell_type": "code",
   "execution_count": 24,
   "metadata": {
    "collapsed": false,
    "jupyter": {
     "outputs_hidden": false
    }
   },
   "outputs": [
    {
     "data": {
      "text/plain": [
       "<Axes: >"
      ]
     },
     "execution_count": 24,
     "metadata": {},
     "output_type": "execute_result"
    },
    {
     "data": {
      "image/png": "[encoded data removed]",
      "text/plain": [
       "<Figure size 640x480 with 2 Axes>"
      ]
     },
     "metadata": {},
     "output_type": "display_data"
    }
   ],
   "source": [
    "corr = df_with_6v.corr(numeric_only=True)\n",
    "sn.heatmap(corr, cmap='coolwarm')"
   ]
  },
  {
   "cell_type": "code",
   "execution_count": 25,
   "metadata": {
    "ExecuteTime": {
     "end_time": "2025-08-02T15:31:07.652640600Z",
     "start_time": "2025-08-02T15:31:07.632922Z"
    },
    "collapsed": false,
    "jupyter": {
     "outputs_hidden": false
    }
   },
   "outputs": [
    {
     "name": "stdout",
     "output_type": "stream",
     "text": [
      "492\n",
      "(284807,)\n"
     ]
    }
   ],
   "source": [
    "X = df.drop(\"Class\",axis=1)\n",
    "y = df[\"Class\"]\n",
    "print((y==1).sum())\n",
    "print(y.shape)"
   ]
  },
  {
   "cell_type": "markdown",
   "metadata": {},
   "source": [
    "# Machine learning predictions"
   ]
  },
  {
   "cell_type": "code",
   "execution_count": 26,
   "metadata": {
    "ExecuteTime": {
     "end_time": "2025-08-02T15:31:12.397684500Z",
     "start_time": "2025-08-02T15:31:07.652640600Z"
    },
    "collapsed": false,
    "jupyter": {
     "outputs_hidden": false
    }
   },
   "outputs": [
    {
     "name": "stderr",
     "output_type": "stream",
     "text": [
      "C:\\Users\\Axel\\Documents\\MachineLearningProjects\\creditcard_fraud\\venv\\Lib\\site-packages\\tqdm\\auto.py:21: TqdmWarning: IProgress not found. Please update jupyter and ipywidgets. See https://ipywidgets.readthedocs.io/en/stable/user_install.html\n",
      "  from .autonotebook import tqdm as notebook_tqdm\n"
     ]
    }
   ],
   "source": [
    "from sklearn.preprocessing import RobustScaler,StandardScaler\n",
    "from sklearn.feature_selection import chi2, SelectKBest, f_classif, f_regression, mutual_info_classif, mutual_info_regression, SelectFromModel, RFE, RFECV\n",
    "from sklearn.linear_model import SGDClassifier\n",
    "from sklearn.ensemble import RandomForestClassifier, GradientBoostingClassifier, AdaBoostClassifier, BaggingClassifier, RandomForestRegressor, HistGradientBoostingClassifier\n",
    "from sklearn.linear_model import LogisticRegression\n",
    "from sklearn.model_selection import train_test_split, RandomizedSearchCV\n",
    "from sklearn.impute import SimpleImputer\n",
    "from sklearn.pipeline import make_pipeline, Pipeline\n",
    "from sklearn.model_selection import cross_validate, cross_val_score, cross_val_predict, StratifiedKFold, GridSearchCV, RandomizedSearchCV\n",
    "from sklearn.compose import ColumnTransformer\n",
    "from xgboost import XGBClassifier, XGBRegressor\n",
    "from lightgbm import LGBMClassifier\n",
    "from sklearn.metrics import accuracy_score, recall_score, f1_score, roc_auc_score, precision_score, classification_report, average_precision_score\n",
    "from sklearn.tree import DecisionTreeClassifier\n",
    "from sklearn.utils import shuffle\n",
    "from catboost import CatBoostClassifier\n",
    "from scipy.stats import randint, uniform\n",
    "import optuna\n",
    "import tqdm as notebook_tqdm"
   ]
  },
  {
   "cell_type": "code",
   "execution_count": 27,
   "metadata": {},
   "outputs": [],
   "source": [
    "# RobustScaler is less prone to outliers.\n",
    "\n",
    "std_scaler = StandardScaler()\n",
    "rob_scaler = RobustScaler()\n",
    "\n",
    "df['scaled_amount'] = rob_scaler.fit_transform(df['Amount'].values.reshape(-1,1))\n",
    "df['scaled_time'] = rob_scaler.fit_transform(df['Time'].values.reshape(-1,1))\n",
    "\n",
    "df.drop(['Time','Amount'], axis=1, inplace=True)\n"
   ]
  },
  {
   "cell_type": "markdown",
   "metadata": {},
   "source": [
    "We normalize the data that we can understand, in this case the column amount and time, to permit the algorithm a better learning"
   ]
  },
  {
   "cell_type": "code",
   "execution_count": 28,
   "metadata": {},
   "outputs": [
    {
     "data": {
      "text/html": [
       "<div>\n",
       "<style scoped>\n",
       "    .dataframe tbody tr th:only-of-type {\n",
       "        vertical-align: middle;\n",
       "    }\n",
       "\n",
       "    .dataframe tbody tr th {\n",
       "        vertical-align: top;\n",
       "    }\n",
       "\n",
       "    .dataframe thead th {\n",
       "        text-align: right;\n",
       "    }\n",
       "</style>\n",
       "<table border=\"1\" class=\"dataframe\">\n",
       "  <thead>\n",
       "    <tr style=\"text-align: right;\">\n",
       "      <th></th>\n",
       "      <th>V1</th>\n",
       "      <th>V2</th>\n",
       "      <th>V3</th>\n",
       "      <th>V4</th>\n",
       "      <th>V5</th>\n",
       "      <th>V6</th>\n",
       "      <th>V7</th>\n",
       "      <th>V8</th>\n",
       "      <th>V9</th>\n",
       "      <th>V10</th>\n",
       "      <th>...</th>\n",
       "      <th>V22</th>\n",
       "      <th>V23</th>\n",
       "      <th>V24</th>\n",
       "      <th>V25</th>\n",
       "      <th>V26</th>\n",
       "      <th>V27</th>\n",
       "      <th>V28</th>\n",
       "      <th>Class</th>\n",
       "      <th>scaled_amount</th>\n",
       "      <th>scaled_time</th>\n",
       "    </tr>\n",
       "  </thead>\n",
       "  <tbody>\n",
       "    <tr>\n",
       "      <th>0</th>\n",
       "      <td>-1.359807</td>\n",
       "      <td>-0.072781</td>\n",
       "      <td>2.536347</td>\n",
       "      <td>1.378155</td>\n",
       "      <td>-0.338321</td>\n",
       "      <td>0.462388</td>\n",
       "      <td>0.239599</td>\n",
       "      <td>0.098698</td>\n",
       "      <td>0.363787</td>\n",
       "      <td>0.090794</td>\n",
       "      <td>...</td>\n",
       "      <td>0.277838</td>\n",
       "      <td>-0.110474</td>\n",
       "      <td>0.066928</td>\n",
       "      <td>0.128539</td>\n",
       "      <td>-0.189115</td>\n",
       "      <td>0.133558</td>\n",
       "      <td>-0.021053</td>\n",
       "      <td>0</td>\n",
       "      <td>1.783274</td>\n",
       "      <td>-0.994983</td>\n",
       "    </tr>\n",
       "    <tr>\n",
       "      <th>1</th>\n",
       "      <td>1.191857</td>\n",
       "      <td>0.266151</td>\n",
       "      <td>0.166480</td>\n",
       "      <td>0.448154</td>\n",
       "      <td>0.060018</td>\n",
       "      <td>-0.082361</td>\n",
       "      <td>-0.078803</td>\n",
       "      <td>0.085102</td>\n",
       "      <td>-0.255425</td>\n",
       "      <td>-0.166974</td>\n",
       "      <td>...</td>\n",
       "      <td>-0.638672</td>\n",
       "      <td>0.101288</td>\n",
       "      <td>-0.339846</td>\n",
       "      <td>0.167170</td>\n",
       "      <td>0.125895</td>\n",
       "      <td>-0.008983</td>\n",
       "      <td>0.014724</td>\n",
       "      <td>0</td>\n",
       "      <td>-0.269825</td>\n",
       "      <td>-0.994983</td>\n",
       "    </tr>\n",
       "    <tr>\n",
       "      <th>2</th>\n",
       "      <td>-1.358354</td>\n",
       "      <td>-1.340163</td>\n",
       "      <td>1.773209</td>\n",
       "      <td>0.379780</td>\n",
       "      <td>-0.503198</td>\n",
       "      <td>1.800499</td>\n",
       "      <td>0.791461</td>\n",
       "      <td>0.247676</td>\n",
       "      <td>-1.514654</td>\n",
       "      <td>0.207643</td>\n",
       "      <td>...</td>\n",
       "      <td>0.771679</td>\n",
       "      <td>0.909412</td>\n",
       "      <td>-0.689281</td>\n",
       "      <td>-0.327642</td>\n",
       "      <td>-0.139097</td>\n",
       "      <td>-0.055353</td>\n",
       "      <td>-0.059752</td>\n",
       "      <td>0</td>\n",
       "      <td>4.983721</td>\n",
       "      <td>-0.994972</td>\n",
       "    </tr>\n",
       "    <tr>\n",
       "      <th>3</th>\n",
       "      <td>-0.966272</td>\n",
       "      <td>-0.185226</td>\n",
       "      <td>1.792993</td>\n",
       "      <td>-0.863291</td>\n",
       "      <td>-0.010309</td>\n",
       "      <td>1.247203</td>\n",
       "      <td>0.237609</td>\n",
       "      <td>0.377436</td>\n",
       "      <td>-1.387024</td>\n",
       "      <td>-0.054952</td>\n",
       "      <td>...</td>\n",
       "      <td>0.005274</td>\n",
       "      <td>-0.190321</td>\n",
       "      <td>-1.175575</td>\n",
       "      <td>0.647376</td>\n",
       "      <td>-0.221929</td>\n",
       "      <td>0.062723</td>\n",
       "      <td>0.061458</td>\n",
       "      <td>0</td>\n",
       "      <td>1.418291</td>\n",
       "      <td>-0.994972</td>\n",
       "    </tr>\n",
       "    <tr>\n",
       "      <th>4</th>\n",
       "      <td>-1.158233</td>\n",
       "      <td>0.877737</td>\n",
       "      <td>1.548718</td>\n",
       "      <td>0.403034</td>\n",
       "      <td>-0.407193</td>\n",
       "      <td>0.095921</td>\n",
       "      <td>0.592941</td>\n",
       "      <td>-0.270533</td>\n",
       "      <td>0.817739</td>\n",
       "      <td>0.753074</td>\n",
       "      <td>...</td>\n",
       "      <td>0.798278</td>\n",
       "      <td>-0.137458</td>\n",
       "      <td>0.141267</td>\n",
       "      <td>-0.206010</td>\n",
       "      <td>0.502292</td>\n",
       "      <td>0.219422</td>\n",
       "      <td>0.215153</td>\n",
       "      <td>0</td>\n",
       "      <td>0.670579</td>\n",
       "      <td>-0.994960</td>\n",
       "    </tr>\n",
       "  </tbody>\n",
       "</table>\n",
       "<p>5 rows × 31 columns</p>\n",
       "</div>"
      ],
      "text/plain": [
       "         V1        V2        V3        V4        V5        V6        V7  \\\n",
       "0 -1.359807 -0.072781  2.536347  1.378155 -0.338321  0.462388  0.239599   \n",
       "1  1.191857  0.266151  0.166480  0.448154  0.060018 -0.082361 -0.078803   \n",
       "2 -1.358354 -1.340163  1.773209  0.379780 -0.503198  1.800499  0.791461   \n",
       "3 -0.966272 -0.185226  1.792993 -0.863291 -0.010309  1.247203  0.237609   \n",
       "4 -1.158233  0.877737  1.548718  0.403034 -0.407193  0.095921  0.592941   \n",
       "\n",
       "         V8        V9       V10  ...       V22       V23       V24       V25  \\\n",
       "0  0.098698  0.363787  0.090794  ...  0.277838 -0.110474  0.066928  0.128539   \n",
       "1  0.085102 -0.255425 -0.166974  ... -0.638672  0.101288 -0.339846  0.167170   \n",
       "2  0.247676 -1.514654  0.207643  ...  0.771679  0.909412 -0.689281 -0.327642   \n",
       "3  0.377436 -1.387024 -0.054952  ...  0.005274 -0.190321 -1.175575  0.647376   \n",
       "4 -0.270533  0.817739  0.753074  ...  0.798278 -0.137458  0.141267 -0.206010   \n",
       "\n",
       "        V26       V27       V28  Class  scaled_amount  scaled_time  \n",
       "0 -0.189115  0.133558 -0.021053      0       1.783274    -0.994983  \n",
       "1  0.125895 -0.008983  0.014724      0      -0.269825    -0.994983  \n",
       "2 -0.139097 -0.055353 -0.059752      0       4.983721    -0.994972  \n",
       "3 -0.221929  0.062723  0.061458      0       1.418291    -0.994972  \n",
       "4  0.502292  0.219422  0.215153      0       0.670579    -0.994960  \n",
       "\n",
       "[5 rows x 31 columns]"
      ]
     },
     "execution_count": 28,
     "metadata": {},
     "output_type": "execute_result"
    }
   ],
   "source": [
    "df.head(5)"
   ]
  },
  {
   "cell_type": "code",
   "execution_count": 29,
   "metadata": {
    "ExecuteTime": {
     "end_time": "2025-08-02T15:31:12.494936500Z",
     "start_time": "2025-08-02T15:31:12.397684500Z"
    },
    "collapsed": false,
    "jupyter": {
     "outputs_hidden": false
    }
   },
   "outputs": [],
   "source": [
    "X_train, X_test, y_train, y_test = train_test_split(X,y,stratify=y,random_state=42)"
   ]
  },
  {
   "cell_type": "code",
   "execution_count": 30,
   "metadata": {
    "ExecuteTime": {
     "end_time": "2025-08-02T15:31:12.502911700Z",
     "start_time": "2025-08-02T15:31:12.496875100Z"
    },
    "collapsed": false,
    "jupyter": {
     "outputs_hidden": false
    }
   },
   "outputs": [
    {
     "name": "stdout",
     "output_type": "stream",
     "text": [
      "X_train :  (213605, 30)\n",
      "y_train :  (213605,)\n",
      "X_test :  (71202, 30)\n",
      "y_test :  (71202,)\n"
     ]
    }
   ],
   "source": [
    "print(\"X_train : \", X_train.shape)\n",
    "print(\"y_train : \",y_train.shape)\n",
    "print(\"X_test : \",X_test.shape)\n",
    "print(\"y_test : \",y_test.shape)"
   ]
  },
  {
   "cell_type": "markdown",
   "metadata": {
    "collapsed": false,
    "jupyter": {
     "outputs_hidden": false
    }
   },
   "source": [
    "Creation of little part of the dataset to test the best model to optimize for prediction"
   ]
  },
  {
   "cell_type": "markdown",
   "metadata": {
    "collapsed": false,
    "jupyter": {
     "outputs_hidden": false
    }
   },
   "source": [
    "Application of SMOTE (Over-sampling)"
   ]
  },
  {
   "cell_type": "markdown",
   "metadata": {},
   "source": [
    "SMOTE will be helpful to artificially create new points to balance our dataset"
   ]
  },
  {
   "cell_type": "code",
   "execution_count": 31,
   "metadata": {
    "ExecuteTime": {
     "end_time": "2025-08-02T15:44:03.389195400Z",
     "start_time": "2025-08-02T15:43:56.781265900Z"
    },
    "collapsed": false,
    "jupyter": {
     "outputs_hidden": false
    }
   },
   "outputs": [
    {
     "name": "stdout",
     "output_type": "stream",
     "text": [
      "Classe avant SMOTE: Counter({0: 213236, 1: 369})\n",
      "Classe après SMOTE: Counter({0: 213236, 1: 213236})\n",
      "(213236, 30)\n",
      "(213236,)\n"
     ]
    }
   ],
   "source": [
    "from imblearn.over_sampling import SMOTE\n",
    "from collections import Counter\n",
    "\n",
    "print(\"Classe avant SMOTE:\", Counter(y_train))\n",
    "\n",
    "smote = SMOTE(random_state=42)\n",
    "X_train_resampled, y_train_resampled = smote.fit_resample(X_train, y_train)\n",
    "\n",
    "print(\"Classe après SMOTE:\", Counter(y_train_resampled))\n",
    "\n",
    "X_resampled,_, y_resampled, _ = train_test_split(X_train_resampled, y_train_resampled, stratify=y_train_resampled,train_size=0.5, random_state=42)\n",
    "\n",
    "print(X_resampled.shape)\n",
    "print(y_resampled.shape)"
   ]
  },
  {
   "cell_type": "markdown",
   "metadata": {},
   "source": [
    "We compare on a sample of our dataset to permit algorithms to learn faster, we keep an original hyperparameters"
   ]
  },
  {
   "cell_type": "code",
   "execution_count": 32,
   "metadata": {
    "collapsed": false,
    "jupyter": {
     "outputs_hidden": false
    }
   },
   "outputs": [
    {
     "name": "stdout",
     "output_type": "stream",
     "text": [
      "Modèle en cours : LighBoost Classifier :\n",
      "[LightGBM] [Info] Number of positive: 213236, number of negative: 213236\n",
      "[LightGBM] [Info] Auto-choosing row-wise multi-threading, the overhead of testing was 0.023803 seconds.\n",
      "You can set `force_row_wise=true` to remove the overhead.\n",
      "And if memory is not enough, you can set `force_col_wise=true`.\n",
      "[LightGBM] [Info] Total Bins 7650\n",
      "[LightGBM] [Info] Number of data points in the train set: 426472, number of used features: 30\n",
      "[LightGBM] [Info] [binary:BoostFromScore]: pavg=0.500000 -> initscore=0.000000\n",
      "Precision: 0.658\n",
      "Recall: 0.846\n",
      "F1 Score: 0.740\n",
      "ROC_AUC Score: 0.922\n",
      "PR AUC: 0.557\n",
      "              precision    recall  f1-score   support\n",
      "\n",
      "           0      1.000     0.999     0.999     71079\n",
      "           1      0.658     0.846     0.740       123\n",
      "\n",
      "    accuracy                          0.999     71202\n",
      "   macro avg      0.829     0.922     0.870     71202\n",
      "weighted avg      0.999     0.999     0.999     71202\n",
      "\n",
      "------\n",
      "Modèle en cours : XGBoost\n",
      "Precision: 0.810\n",
      "Recall: 0.829\n",
      "F1 Score: 0.819\n",
      "ROC_AUC Score: 0.914\n",
      "PR AUC: 0.672\n",
      "              precision    recall  f1-score   support\n",
      "\n",
      "           0      1.000     1.000     1.000     71079\n",
      "           1      0.810     0.829     0.819       123\n",
      "\n",
      "    accuracy                          0.999     71202\n",
      "   macro avg      0.905     0.914     0.909     71202\n",
      "weighted avg      0.999     0.999     0.999     71202\n",
      "\n",
      "------\n"
     ]
    }
   ],
   "source": [
    "models = {\n",
    "    \"LighBoost Classifier :\" : LGBMClassifier(random_state=42),\n",
    "    \"XGBoost\": XGBClassifier(random_state=42)\n",
    "    #\"Hist Gradient Boosting Classifier : \" : HistGradientBoostingClassifier(random_state=42),\n",
    "    #\"Cat Boost : \" : CatBoostClassifier(random_state=2)\n",
    "}\n",
    "\n",
    "for name, model in models.items():\n",
    "    print(f\"Modèle en cours : {name}\")\n",
    "    model.fit(X_train_resampled, y_train_resampled)\n",
    "    y_pred = model.predict(X_test)\n",
    "\n",
    "    print(f\"Precision: {precision_score(y_test, y_pred):.3f}\")\n",
    "    print(f\"Recall: {recall_score(y_test, y_pred):.3f}\")\n",
    "    print(f\"F1 Score: {f1_score(y_test, y_pred):.3f}\")\n",
    "    print(f\"ROC_AUC Score: {roc_auc_score(y_test, y_pred):.3f}\")\n",
    "    print(f\"PR AUC: {average_precision_score(y_test, y_pred):.3f}\")\n",
    "    print(classification_report(y_test, y_pred, digits=3))\n",
    "    print(\"------\")\n"
   ]
  },
  {
   "cell_type": "markdown",
   "metadata": {},
   "source": [
    "I saw that XGBoost was the faster with better result so I chose to optimize this algorithm"
   ]
  },
  {
   "cell_type": "markdown",
   "metadata": {
    "collapsed": false,
    "jupyter": {
     "outputs_hidden": false
    }
   },
   "source": [
    "XGBoost"
   ]
  },
  {
   "cell_type": "code",
   "execution_count": 33,
   "metadata": {
    "ExecuteTime": {
     "end_time": "2025-08-02T15:45:57.948267700Z",
     "start_time": "2025-08-02T15:45:56.797576500Z"
    },
    "collapsed": false,
    "jupyter": {
     "outputs_hidden": false
    }
   },
   "outputs": [
    {
     "name": "stdout",
     "output_type": "stream",
     "text": [
      "Precision: 0.913\n",
      "Recall: 0.764\n",
      "F1 Score: 0.832\n",
      "ROC_AUC Score: 0.882\n",
      "PR AUC: 0.698\n",
      "              precision    recall  f1-score   support\n",
      "\n",
      "           0      1.000     1.000     1.000     71079\n",
      "           1      0.913     0.764     0.832       123\n",
      "\n",
      "    accuracy                          0.999     71202\n",
      "   macro avg      0.956     0.882     0.916     71202\n",
      "weighted avg      0.999     0.999     0.999     71202\n",
      "\n",
      "------\n"
     ]
    }
   ],
   "source": [
    "model = XGBClassifier(random_state=42)\n",
    "model.fit(X_train, y_train)\n",
    "y_pred = model.predict(X_test)\n",
    "\n",
    "print(f\"Precision: {precision_score(y_test, y_pred):.3f}\")\n",
    "print(f\"Recall: {recall_score(y_test, y_pred):.3f}\")\n",
    "print(f\"F1 Score: {f1_score(y_test, y_pred):.3f}\")\n",
    "print(f\"ROC_AUC Score: {roc_auc_score(y_test, y_pred):.3f}\")\n",
    "print(f\"PR AUC: {average_precision_score(y_test, y_pred):.3f}\")\n",
    "print(classification_report(y_test, y_pred, digits=3))\n",
    "print(\"------\")"
   ]
  },
  {
   "cell_type": "markdown",
   "metadata": {},
   "source": [
    "Optimisation of XGBoost"
   ]
  },
  {
   "cell_type": "code",
   "execution_count": 34,
   "metadata": {},
   "outputs": [
    {
     "name": "stderr",
     "output_type": "stream",
     "text": [
      "[I 2025-08-06 19:42:47,573] A new study created in memory with name: no-name-63aa1405-cf1a-4a00-86f1-39ff112401a9\n",
      "[I 2025-08-06 19:42:56,071] Trial 0 finished with value: 0.8145161290322581 and parameters: {'max_depth': 3, 'learning_rate': 0.015049681096227098, 'n_estimators': 868, 'subsample': 0.5094403500520823, 'colsample_bytree': 0.8443355701555477, 'scale_pos_weight': 7.057962420379259}. Best is trial 0 with value: 0.8145161290322581.\n",
      "[I 2025-08-06 19:42:59,390] Trial 1 finished with value: 0.9074074074074074 and parameters: {'max_depth': 10, 'learning_rate': 0.17624786717077298, 'n_estimators': 159, 'subsample': 0.6604698714155066, 'colsample_bytree': 0.7813619441374908, 'scale_pos_weight': 16.459825770526237}. Best is trial 1 with value: 0.9074074074074074.\n",
      "[I 2025-08-06 19:43:11,461] Trial 2 finished with value: 0.9339622641509434 and parameters: {'max_depth': 9, 'learning_rate': 0.14382897503139003, 'n_estimators': 743, 'subsample': 0.8851049323671649, 'colsample_bytree': 0.8103202938318529, 'scale_pos_weight': 2.7642889881186363}. Best is trial 2 with value: 0.9339622641509434.\n",
      "[I 2025-08-06 19:43:24,433] Trial 3 finished with value: 0.9099099099099099 and parameters: {'max_depth': 4, 'learning_rate': 0.1610655353732196, 'n_estimators': 670, 'subsample': 0.9897207859002985, 'colsample_bytree': 0.8880319438734363, 'scale_pos_weight': 14.069674183003558}. Best is trial 2 with value: 0.9339622641509434.\n",
      "[I 2025-08-06 19:43:35,155] Trial 4 finished with value: 0.9259259259259259 and parameters: {'max_depth': 12, 'learning_rate': 0.22351016919828764, 'n_estimators': 519, 'subsample': 0.6824513033075975, 'colsample_bytree': 0.5350236220780318, 'scale_pos_weight': 11.531579888063213}. Best is trial 2 with value: 0.9339622641509434.\n",
      "[I 2025-08-06 19:43:45,479] Trial 5 finished with value: 0.9090909090909091 and parameters: {'max_depth': 3, 'learning_rate': 0.14223406925116577, 'n_estimators': 694, 'subsample': 0.6415697630847967, 'colsample_bytree': 0.7827727551077384, 'scale_pos_weight': 11.140837722148945}. Best is trial 2 with value: 0.9339622641509434.\n",
      "[I 2025-08-06 19:43:51,493] Trial 6 finished with value: 0.9423076923076923 and parameters: {'max_depth': 7, 'learning_rate': 0.10317514316120202, 'n_estimators': 287, 'subsample': 0.6179631686455308, 'colsample_bytree': 0.7715784256990214, 'scale_pos_weight': 5.852142804953365}. Best is trial 6 with value: 0.9423076923076923.\n",
      "[I 2025-08-06 19:43:54,020] Trial 7 finished with value: 0.8918918918918919 and parameters: {'max_depth': 5, 'learning_rate': 0.09450844793781218, 'n_estimators': 110, 'subsample': 0.5205884629953398, 'colsample_bytree': 0.8707712089324218, 'scale_pos_weight': 10.76438320677504}. Best is trial 6 with value: 0.9423076923076923.\n",
      "[I 2025-08-06 19:44:08,871] Trial 8 finished with value: 0.9252336448598131 and parameters: {'max_depth': 12, 'learning_rate': 0.02801985410555325, 'n_estimators': 577, 'subsample': 0.5419602630160805, 'colsample_bytree': 0.8565730710603865, 'scale_pos_weight': 3.69280037451017}. Best is trial 6 with value: 0.9423076923076923.\n",
      "[I 2025-08-06 19:44:20,561] Trial 9 finished with value: 0.8909090909090909 and parameters: {'max_depth': 6, 'learning_rate': 0.14134956534963494, 'n_estimators': 574, 'subsample': 0.5930420780418462, 'colsample_bytree': 0.9971624937422152, 'scale_pos_weight': 10.016453026947486}. Best is trial 6 with value: 0.9423076923076923.\n",
      "[I 2025-08-06 19:44:27,361] Trial 10 finished with value: 0.9279279279279279 and parameters: {'max_depth': 7, 'learning_rate': 0.27929346096251506, 'n_estimators': 343, 'subsample': 0.7778034287685336, 'colsample_bytree': 0.6508642157470994, 'scale_pos_weight': 19.03574789113558}. Best is trial 6 with value: 0.9423076923076923.\n",
      "[I 2025-08-06 19:44:48,104] Trial 11 finished with value: 0.9509803921568627 and parameters: {'max_depth': 9, 'learning_rate': 0.08161138290587001, 'n_estimators': 965, 'subsample': 0.8407117978604, 'colsample_bytree': 0.6645501243035431, 'scale_pos_weight': 1.0337987312836106}. Best is trial 11 with value: 0.9509803921568627.\n",
      "[I 2025-08-06 19:45:06,653] Trial 12 finished with value: 0.9519230769230769 and parameters: {'max_depth': 9, 'learning_rate': 0.07708460989060507, 'n_estimators': 967, 'subsample': 0.7809160691026242, 'colsample_bytree': 0.659073394690008, 'scale_pos_weight': 1.0699647426178913}. Best is trial 12 with value: 0.9519230769230769.\n",
      "[I 2025-08-06 19:45:36,379] Trial 13 finished with value: 0.9514563106796117 and parameters: {'max_depth': 9, 'learning_rate': 0.06890891220379923, 'n_estimators': 990, 'subsample': 0.8041767160954716, 'colsample_bytree': 0.6509806553824596, 'scale_pos_weight': 1.1814190455754443}. Best is trial 12 with value: 0.9519230769230769.\n",
      "[I 2025-08-06 19:45:57,200] Trial 14 finished with value: 0.9252336448598131 and parameters: {'max_depth': 10, 'learning_rate': 0.051560450148357015, 'n_estimators': 977, 'subsample': 0.7580958824050807, 'colsample_bytree': 0.6650520244479765, 'scale_pos_weight': 6.058347638238406}. Best is trial 12 with value: 0.9519230769230769.\n",
      "[I 2025-08-06 19:46:12,644] Trial 15 finished with value: 0.9607843137254902 and parameters: {'max_depth': 9, 'learning_rate': 0.06450766254649147, 'n_estimators': 838, 'subsample': 0.8521411303162767, 'colsample_bytree': 0.5738034854721816, 'scale_pos_weight': 1.243033730143491}. Best is trial 15 with value: 0.9607843137254902.\n",
      "[I 2025-08-06 19:46:28,112] Trial 16 finished with value: 0.9519230769230769 and parameters: {'max_depth': 8, 'learning_rate': 0.046101527659052274, 'n_estimators': 844, 'subsample': 0.8972121446150685, 'colsample_bytree': 0.520988407320712, 'scale_pos_weight': 4.571980508181167}. Best is trial 15 with value: 0.9607843137254902.\n",
      "[I 2025-08-06 19:46:39,710] Trial 17 finished with value: 0.9245283018867925 and parameters: {'max_depth': 10, 'learning_rate': 0.11300202255540814, 'n_estimators': 804, 'subsample': 0.7049623545364887, 'colsample_bytree': 0.5739385038080158, 'scale_pos_weight': 8.22233077926304}. Best is trial 15 with value: 0.9607843137254902.\n",
      "[I 2025-08-06 19:46:51,109] Trial 18 finished with value: 0.9158878504672897 and parameters: {'max_depth': 11, 'learning_rate': 0.19117282761528737, 'n_estimators': 874, 'subsample': 0.9500771826450441, 'colsample_bytree': 0.6022813629102051, 'scale_pos_weight': 3.2756742504843492}. Best is trial 15 with value: 0.9607843137254902.\n",
      "[I 2025-08-06 19:46:58,307] Trial 19 finished with value: 0.9074074074074074 and parameters: {'max_depth': 8, 'learning_rate': 0.11761220067864835, 'n_estimators': 453, 'subsample': 0.8404542450669173, 'colsample_bytree': 0.717364841641002, 'scale_pos_weight': 8.606112077552098}. Best is trial 15 with value: 0.9607843137254902.\n",
      "[I 2025-08-06 19:47:10,734] Trial 20 finished with value: 0.9423076923076923 and parameters: {'max_depth': 6, 'learning_rate': 0.06168756005731348, 'n_estimators': 792, 'subsample': 0.7119976596976947, 'colsample_bytree': 0.7173082879750771, 'scale_pos_weight': 2.0859509955522157}. Best is trial 15 with value: 0.9607843137254902.\n",
      "[I 2025-08-06 19:47:26,411] Trial 21 finished with value: 0.9433962264150944 and parameters: {'max_depth': 8, 'learning_rate': 0.03742134828348427, 'n_estimators': 872, 'subsample': 0.9048910618602487, 'colsample_bytree': 0.5002967519612938, 'scale_pos_weight': 4.483267847219363}. Best is trial 15 with value: 0.9607843137254902.\n",
      "[I 2025-08-06 19:47:44,312] Trial 22 finished with value: 0.9238095238095239 and parameters: {'max_depth': 8, 'learning_rate': 0.012754575871929644, 'n_estimators': 896, 'subsample': 0.8795244656364152, 'colsample_bytree': 0.6005871776900963, 'scale_pos_weight': 4.739616116086495}. Best is trial 15 with value: 0.9607843137254902.\n",
      "[I 2025-08-06 19:47:57,293] Trial 23 finished with value: 0.9523809523809523 and parameters: {'max_depth': 9, 'learning_rate': 0.05369347871419326, 'n_estimators': 668, 'subsample': 0.934664632846002, 'colsample_bytree': 0.549754917178896, 'scale_pos_weight': 3.0608939351820297}. Best is trial 15 with value: 0.9607843137254902.\n",
      "[I 2025-08-06 19:48:08,762] Trial 24 finished with value: 0.9333333333333333 and parameters: {'max_depth': 10, 'learning_rate': 0.07935151809107487, 'n_estimators': 636, 'subsample': 0.9380761076504517, 'colsample_bytree': 0.5664222293014112, 'scale_pos_weight': 2.3623722909426337}. Best is trial 15 with value: 0.9607843137254902.\n",
      "[I 2025-08-06 19:48:21,456] Trial 25 finished with value: 0.9245283018867925 and parameters: {'max_depth': 11, 'learning_rate': 0.061150826940858063, 'n_estimators': 741, 'subsample': 0.9967125486042057, 'colsample_bytree': 0.6239802828903964, 'scale_pos_weight': 1.6113126566029985}. Best is trial 15 with value: 0.9607843137254902.\n",
      "[I 2025-08-06 19:48:34,191] Trial 26 finished with value: 0.9333333333333333 and parameters: {'max_depth': 9, 'learning_rate': 0.12359591106751094, 'n_estimators': 928, 'subsample': 0.8142922561360457, 'colsample_bytree': 0.5559008709001628, 'scale_pos_weight': 6.680691546927161}. Best is trial 15 with value: 0.9607843137254902.\n",
      "[I 2025-08-06 19:48:48,135] Trial 27 finished with value: 0.9238095238095239 and parameters: {'max_depth': 11, 'learning_rate': 0.09337356318180999, 'n_estimators': 799, 'subsample': 0.8522834955084762, 'colsample_bytree': 0.7180343660638349, 'scale_pos_weight': 3.5542668643523045}. Best is trial 15 with value: 0.9607843137254902.\n",
      "[I 2025-08-06 19:48:57,080] Trial 28 finished with value: 0.9351851851851852 and parameters: {'max_depth': 7, 'learning_rate': 0.21181835731470156, 'n_estimators': 446, 'subsample': 0.9522038957836033, 'colsample_bytree': 0.6887343160259469, 'scale_pos_weight': 5.045325747319524}. Best is trial 15 with value: 0.9607843137254902.\n",
      "[I 2025-08-06 19:49:11,758] Trial 29 finished with value: 0.9158878504672897 and parameters: {'max_depth': 9, 'learning_rate': 0.025302246590202925, 'n_estimators': 734, 'subsample': 0.7930516308969995, 'colsample_bytree': 0.5957833413140348, 'scale_pos_weight': 7.8034057350121016}. Best is trial 15 with value: 0.9607843137254902.\n",
      "[I 2025-08-06 19:49:27,882] Trial 30 finished with value: 0.9428571428571428 and parameters: {'max_depth': 6, 'learning_rate': 0.042526637328707054, 'n_estimators': 932, 'subsample': 0.7323237252664799, 'colsample_bytree': 0.5498972473615107, 'scale_pos_weight': 13.570267370945793}. Best is trial 15 with value: 0.9607843137254902.\n",
      "[I 2025-08-06 19:49:42,161] Trial 31 finished with value: 0.9433962264150944 and parameters: {'max_depth': 8, 'learning_rate': 0.04819989143265227, 'n_estimators': 836, 'subsample': 0.913827941854538, 'colsample_bytree': 0.5079258921522901, 'scale_pos_weight': 2.824293013244691}. Best is trial 15 with value: 0.9607843137254902.\n",
      "[I 2025-08-06 19:49:52,193] Trial 32 finished with value: 0.941747572815534 and parameters: {'max_depth': 8, 'learning_rate': 0.010875036420861947, 'n_estimators': 631, 'subsample': 0.8564423268330317, 'colsample_bytree': 0.53106712908872, 'scale_pos_weight': 4.654052744654049}. Best is trial 15 with value: 0.9607843137254902.\n",
      "[I 2025-08-06 19:50:05,901] Trial 33 finished with value: 0.9333333333333333 and parameters: {'max_depth': 10, 'learning_rate': 0.08015878810271372, 'n_estimators': 844, 'subsample': 0.919030651949693, 'colsample_bytree': 0.6304409677937761, 'scale_pos_weight': 1.98100100759761}. Best is trial 15 with value: 0.9607843137254902.\n",
      "[I 2025-08-06 19:50:21,573] Trial 34 finished with value: 0.9433962264150944 and parameters: {'max_depth': 9, 'learning_rate': 0.03047675375549827, 'n_estimators': 915, 'subsample': 0.8850208760930519, 'colsample_bytree': 0.5852726359469738, 'scale_pos_weight': 3.736057651781087}. Best is trial 15 with value: 0.9607843137254902.\n",
      "[I 2025-08-06 19:50:33,015] Trial 35 finished with value: 0.9607843137254902 and parameters: {'max_depth': 7, 'learning_rate': 0.06529028634994218, 'n_estimators': 769, 'subsample': 0.9713562730202713, 'colsample_bytree': 0.5263212767700884, 'scale_pos_weight': 1.1470788221609323}. Best is trial 15 with value: 0.9607843137254902.\n",
      "[I 2025-08-06 19:50:44,180] Trial 36 finished with value: 0.9313725490196079 and parameters: {'max_depth': 7, 'learning_rate': 0.29578058592749296, 'n_estimators': 762, 'subsample': 0.9780099929061863, 'colsample_bytree': 0.5438102413202228, 'scale_pos_weight': 1.0670657543761355}. Best is trial 15 with value: 0.9607843137254902.\n",
      "[I 2025-08-06 19:50:53,715] Trial 37 finished with value: 0.9423076923076923 and parameters: {'max_depth': 5, 'learning_rate': 0.12934648391165243, 'n_estimators': 694, 'subsample': 0.9681734096860136, 'colsample_bytree': 0.6110885077921531, 'scale_pos_weight': 2.4385922473326236}. Best is trial 15 with value: 0.9607843137254902.\n",
      "[I 2025-08-06 19:51:01,354] Trial 38 finished with value: 0.9345794392523364 and parameters: {'max_depth': 10, 'learning_rate': 0.16386251801330687, 'n_estimators': 523, 'subsample': 0.9395625033649677, 'colsample_bytree': 0.6943905447333761, 'scale_pos_weight': 14.963765763685824}. Best is trial 15 with value: 0.9607843137254902.\n",
      "[I 2025-08-06 19:51:11,538] Trial 39 finished with value: 0.9339622641509434 and parameters: {'max_depth': 11, 'learning_rate': 0.10462533324047375, 'n_estimators': 659, 'subsample': 0.868199973737484, 'colsample_bytree': 0.5774170659307876, 'scale_pos_weight': 5.9465326625246515}. Best is trial 15 with value: 0.9607843137254902.\n",
      "[I 2025-08-06 19:51:26,040] Trial 40 finished with value: 0.9428571428571428 and parameters: {'max_depth': 5, 'learning_rate': 0.07025731270482531, 'n_estimators': 707, 'subsample': 0.7502783174718275, 'colsample_bytree': 0.9370038291455361, 'scale_pos_weight': 2.8964844988847958}. Best is trial 15 with value: 0.9607843137254902.\n",
      "[I 2025-08-06 19:51:38,456] Trial 41 finished with value: 0.9428571428571428 and parameters: {'max_depth': 8, 'learning_rate': 0.05551957985989837, 'n_estimators': 811, 'subsample': 0.9036733025057542, 'colsample_bytree': 0.519708059422666, 'scale_pos_weight': 1.920632586550156}. Best is trial 15 with value: 0.9607843137254902.\n",
      "[I 2025-08-06 19:51:49,790] Trial 42 finished with value: 0.9428571428571428 and parameters: {'max_depth': 7, 'learning_rate': 0.09381578425220757, 'n_estimators': 766, 'subsample': 0.8216919333808805, 'colsample_bytree': 0.5271013942970635, 'scale_pos_weight': 4.01671067676365}. Best is trial 15 with value: 0.9607843137254902.\n",
      "[I 2025-08-06 19:52:03,684] Trial 43 finished with value: 0.9339622641509434 and parameters: {'max_depth': 9, 'learning_rate': 0.0406405741668802, 'n_estimators': 841, 'subsample': 0.9232350872639241, 'colsample_bytree': 0.5475997318416911, 'scale_pos_weight': 9.47220063654748}. Best is trial 15 with value: 0.9607843137254902.\n",
      "[I 2025-08-06 19:52:20,642] Trial 44 finished with value: 0.9339622641509434 and parameters: {'max_depth': 7, 'learning_rate': 0.025829193929940653, 'n_estimators': 945, 'subsample': 0.9666651693432726, 'colsample_bytree': 0.5046705124861278, 'scale_pos_weight': 5.38488546132869}. Best is trial 15 with value: 0.9607843137254902.\n",
      "[I 2025-08-06 19:52:33,992] Trial 45 finished with value: 0.9326923076923077 and parameters: {'max_depth': 8, 'learning_rate': 0.07460383479656277, 'n_estimators': 883, 'subsample': 0.7758333120862999, 'colsample_bytree': 0.6394028884968997, 'scale_pos_weight': 2.9491174752168074}. Best is trial 15 with value: 0.9607843137254902.\n",
      "[I 2025-08-06 19:52:41,046] Trial 46 finished with value: 0.9519230769230769 and parameters: {'max_depth': 3, 'learning_rate': 0.09577468529170291, 'n_estimators': 586, 'subsample': 0.8946601835350487, 'colsample_bytree': 0.7595262316181772, 'scale_pos_weight': 1.0462803174118807}. Best is trial 15 with value: 0.9607843137254902.\n",
      "[I 2025-08-06 19:52:58,813] Trial 47 finished with value: 0.9245283018867925 and parameters: {'max_depth': 9, 'learning_rate': 0.061079804531588774, 'n_estimators': 992, 'subsample': 0.9991314703499444, 'colsample_bytree': 0.5711093164339818, 'scale_pos_weight': 7.066290528921488}. Best is trial 15 with value: 0.9607843137254902.\n",
      "[I 2025-08-06 19:53:12,750] Trial 48 finished with value: 0.9174311926605505 and parameters: {'max_depth': 6, 'learning_rate': 0.0882250816192538, 'n_estimators': 711, 'subsample': 0.8365331683677822, 'colsample_bytree': 0.5336434374979293, 'scale_pos_weight': 12.303517976070943}. Best is trial 15 with value: 0.9607843137254902.\n",
      "[I 2025-08-06 19:53:25,682] Trial 49 finished with value: 0.9090909090909091 and parameters: {'max_depth': 9, 'learning_rate': 0.13622443110667326, 'n_estimators': 840, 'subsample': 0.8719143309868208, 'colsample_bytree': 0.8033844748900331, 'scale_pos_weight': 19.80578150542099}. Best is trial 15 with value: 0.9607843137254902.\n",
      "[I 2025-08-06 19:53:30,608] Trial 50 finished with value: 0.9333333333333333 and parameters: {'max_depth': 10, 'learning_rate': 0.04955547266589107, 'n_estimators': 247, 'subsample': 0.653756385178516, 'colsample_bytree': 0.6771307997453667, 'scale_pos_weight': 3.9144224265262073}. Best is trial 15 with value: 0.9607843137254902.\n",
      "[I 2025-08-06 19:53:37,844] Trial 51 finished with value: 0.9514563106796117 and parameters: {'max_depth': 3, 'learning_rate': 0.10597417180771407, 'n_estimators': 580, 'subsample': 0.8877977653585843, 'colsample_bytree': 0.7514143781457915, 'scale_pos_weight': 1.0305946744219798}. Best is trial 15 with value: 0.9607843137254902.\n",
      "[I 2025-08-06 19:53:45,935] Trial 52 finished with value: 0.9514563106796117 and parameters: {'max_depth': 4, 'learning_rate': 0.06913925286742084, 'n_estimators': 605, 'subsample': 0.9342916242397348, 'colsample_bytree': 0.833970178366241, 'scale_pos_weight': 1.8239444924087895}. Best is trial 15 with value: 0.9607843137254902.\n",
      "[I 2025-08-06 19:53:52,413] Trial 53 finished with value: 0.9333333333333333 and parameters: {'max_depth': 3, 'learning_rate': 0.08422039634194481, 'n_estimators': 529, 'subsample': 0.9003204596397151, 'colsample_bytree': 0.7500407885674268, 'scale_pos_weight': 2.5802927955676536}. Best is trial 15 with value: 0.9607843137254902.\n",
      "[I 2025-08-06 19:54:02,464] Trial 54 finished with value: 0.9326923076923077 and parameters: {'max_depth': 4, 'learning_rate': 0.023884457395680764, 'n_estimators': 655, 'subsample': 0.8299182549419475, 'colsample_bytree': 0.7741563860139805, 'scale_pos_weight': 1.5955019682402087}. Best is trial 15 with value: 0.9607843137254902.\n",
      "[I 2025-08-06 19:54:14,777] Trial 55 finished with value: 0.9428571428571428 and parameters: {'max_depth': 8, 'learning_rate': 0.05795438640384629, 'n_estimators': 779, 'subsample': 0.7912742173066073, 'colsample_bytree': 0.6215329416162882, 'scale_pos_weight': 1.6185648335271163}. Best is trial 15 with value: 0.9607843137254902.\n",
      "[I 2025-08-06 19:54:24,628] Trial 56 finished with value: 0.9174311926605505 and parameters: {'max_depth': 12, 'learning_rate': 0.03735671784776296, 'n_estimators': 493, 'subsample': 0.9604956670745559, 'colsample_bytree': 0.5156622344375739, 'scale_pos_weight': 17.571280676065573}. Best is trial 15 with value: 0.9607843137254902.\n",
      "[I 2025-08-06 19:54:41,128] Trial 57 finished with value: 0.9423076923076923 and parameters: {'max_depth': 10, 'learning_rate': 0.10027224759273873, 'n_estimators': 959, 'subsample': 0.855926152859669, 'colsample_bytree': 0.5579703333751257, 'scale_pos_weight': 3.451434038541924}. Best is trial 15 with value: 0.9607843137254902.\n",
      "[I 2025-08-06 19:54:48,058] Trial 58 finished with value: 0.9428571428571428 and parameters: {'max_depth': 9, 'learning_rate': 0.11400609351083557, 'n_estimators': 395, 'subsample': 0.9829931500636366, 'colsample_bytree': 0.5847284589019526, 'scale_pos_weight': 4.35838030911564}. Best is trial 15 with value: 0.9607843137254902.\n",
      "[I 2025-08-06 19:55:02,153] Trial 59 finished with value: 0.9333333333333333 and parameters: {'max_depth': 7, 'learning_rate': 0.06989417230253375, 'n_estimators': 905, 'subsample': 0.5677166388720223, 'colsample_bytree': 0.7957725274982186, 'scale_pos_weight': 2.3952753446141797}. Best is trial 15 with value: 0.9607843137254902.\n",
      "[I 2025-08-06 19:55:14,338] Trial 60 finished with value: 0.9320388349514563 and parameters: {'max_depth': 8, 'learning_rate': 0.15544545591254721, 'n_estimators': 736, 'subsample': 0.8949603556862938, 'colsample_bytree': 0.7291655116128357, 'scale_pos_weight': 1.0323431519002}. Best is trial 15 with value: 0.9607843137254902.\n",
      "[I 2025-08-06 19:55:30,050] Trial 61 finished with value: 0.9428571428571428 and parameters: {'max_depth': 9, 'learning_rate': 0.06435313597384135, 'n_estimators': 998, 'subsample': 0.7987244148735532, 'colsample_bytree': 0.6514427812263075, 'scale_pos_weight': 3.127183939882383}. Best is trial 15 with value: 0.9607843137254902.\n",
      "[I 2025-08-06 19:55:48,477] Trial 62 finished with value: 0.9423076923076923 and parameters: {'max_depth': 9, 'learning_rate': 0.050574707003743585, 'n_estimators': 964, 'subsample': 0.8104077331278708, 'colsample_bytree': 0.5963978388580083, 'scale_pos_weight': 1.10888045422139}. Best is trial 15 with value: 0.9607843137254902.\n",
      "[I 2025-08-06 19:56:03,452] Trial 63 finished with value: 0.9326923076923077 and parameters: {'max_depth': 10, 'learning_rate': 0.08059447280402351, 'n_estimators': 870, 'subsample': 0.7766348934021065, 'colsample_bytree': 0.828158805742944, 'scale_pos_weight': 1.7051637852050245}. Best is trial 15 with value: 0.9607843137254902.\n",
      "[I 2025-08-06 19:56:14,731] Trial 64 finished with value: 0.9333333333333333 and parameters: {'max_depth': 8, 'learning_rate': 0.03922852633772406, 'n_estimators': 603, 'subsample': 0.7132147948603809, 'colsample_bytree': 0.7019315382222524, 'scale_pos_weight': 2.283710168411184}. Best is trial 15 with value: 0.9607843137254902.\n",
      "[I 2025-08-06 19:56:26,138] Trial 65 finished with value: 0.9428571428571428 and parameters: {'max_depth': 9, 'learning_rate': 0.24479933073742122, 'n_estimators': 808, 'subsample': 0.9339298583866097, 'colsample_bytree': 0.6632096776558307, 'scale_pos_weight': 3.2807699722692605}. Best is trial 15 with value: 0.9607843137254902.\n",
      "[I 2025-08-06 19:56:38,676] Trial 66 finished with value: 0.9494949494949495 and parameters: {'max_depth': 11, 'learning_rate': 0.01930064594431493, 'n_estimators': 683, 'subsample': 0.847488815195868, 'colsample_bytree': 0.5593214463848628, 'scale_pos_weight': 1.536166794272343}. Best is trial 15 with value: 0.9607843137254902.\n",
      "[I 2025-08-06 19:56:51,715] Trial 67 finished with value: 0.9519230769230769 and parameters: {'max_depth': 6, 'learning_rate': 0.09281265923497647, 'n_estimators': 928, 'subsample': 0.9134932922469544, 'colsample_bytree': 0.5411660129380441, 'scale_pos_weight': 5.486726468530016}. Best is trial 15 with value: 0.9607843137254902.\n",
      "[I 2025-08-06 19:57:04,711] Trial 68 finished with value: 0.9428571428571428 and parameters: {'max_depth': 6, 'learning_rate': 0.08821783197037752, 'n_estimators': 907, 'subsample': 0.8701203339195772, 'colsample_bytree': 0.5368218407241403, 'scale_pos_weight': 6.593442096554037}. Best is trial 15 with value: 0.9607843137254902.\n",
      "[I 2025-08-06 19:57:18,712] Trial 69 finished with value: 0.9339622641509434 and parameters: {'max_depth': 6, 'learning_rate': 0.12581950804706987, 'n_estimators': 856, 'subsample': 0.949938536346591, 'colsample_bytree': 0.5214140290353868, 'scale_pos_weight': 5.448336256152106}. Best is trial 15 with value: 0.9607843137254902.\n",
      "[I 2025-08-06 19:57:31,460] Trial 70 finished with value: 0.9339622641509434 and parameters: {'max_depth': 7, 'learning_rate': 0.09941153746045697, 'n_estimators': 884, 'subsample': 0.915759693014587, 'colsample_bytree': 0.5684479483042667, 'scale_pos_weight': 4.169659789589359}. Best is trial 15 with value: 0.9607843137254902.\n",
      "[I 2025-08-06 19:57:45,413] Trial 71 finished with value: 0.9514563106796117 and parameters: {'max_depth': 8, 'learning_rate': 0.07409791645306235, 'n_estimators': 951, 'subsample': 0.7310734190337398, 'colsample_bytree': 0.6155401686150666, 'scale_pos_weight': 2.51034122191235}. Best is trial 15 with value: 0.9607843137254902.\n",
      "[I 2025-08-06 19:58:02,215] Trial 72 finished with value: 0.9339622641509434 and parameters: {'max_depth': 9, 'learning_rate': 0.03337708062639423, 'n_estimators': 923, 'subsample': 0.8851121466225642, 'colsample_bytree': 0.5436080492578464, 'scale_pos_weight': 5.050301160238551}. Best is trial 15 with value: 0.9607843137254902.\n",
      "[I 2025-08-06 19:58:13,953] Trial 73 finished with value: 0.9252336448598131 and parameters: {'max_depth': 5, 'learning_rate': 0.04412622637566149, 'n_estimators': 820, 'subsample': 0.9186909073188877, 'colsample_bytree': 0.5019968605522328, 'scale_pos_weight': 2.9781270443462557}. Best is trial 15 with value: 0.9607843137254902.\n",
      "[I 2025-08-06 19:58:30,063] Trial 74 finished with value: 0.9607843137254902 and parameters: {'max_depth': 9, 'learning_rate': 0.05479071387965386, 'n_estimators': 977, 'subsample': 0.8613314159909283, 'colsample_bytree': 0.5879411039431048, 'scale_pos_weight': 2.1560932235963337}. Best is trial 15 with value: 0.9607843137254902.\n",
      "[I 2025-08-06 19:58:45,192] Trial 75 finished with value: 0.9519230769230769 and parameters: {'max_depth': 8, 'learning_rate': 0.05843199002387996, 'n_estimators': 968, 'subsample': 0.8639646011046912, 'colsample_bytree': 0.5897424081025158, 'scale_pos_weight': 2.069357534567248}. Best is trial 15 with value: 0.9607843137254902.\n",
      "[I 2025-08-06 19:58:59,133] Trial 76 finished with value: 0.9423076923076923 and parameters: {'max_depth': 9, 'learning_rate': 0.18495009095981918, 'n_estimators': 930, 'subsample': 0.9469756157990188, 'colsample_bytree': 0.5578507886781157, 'scale_pos_weight': 3.457304180849797}. Best is trial 15 with value: 0.9607843137254902.\n",
      "[I 2025-08-06 19:59:08,638] Trial 77 finished with value: 0.9433962264150944 and parameters: {'max_depth': 10, 'learning_rate': 0.049172313526564315, 'n_estimators': 556, 'subsample': 0.9015506224873193, 'colsample_bytree': 0.5790732256932003, 'scale_pos_weight': 4.637613699389663}. Best is trial 15 with value: 0.9607843137254902.\n",
      "[I 2025-08-06 19:59:23,222] Trial 78 finished with value: 0.9509803921568627 and parameters: {'max_depth': 8, 'learning_rate': 0.10866914646881692, 'n_estimators': 761, 'subsample': 0.9303047877015074, 'colsample_bytree': 0.6057971012415865, 'scale_pos_weight': 1.627380385904606}. Best is trial 15 with value: 0.9607843137254902.\n",
      "[I 2025-08-06 19:59:36,136] Trial 79 finished with value: 0.9423076923076923 and parameters: {'max_depth': 7, 'learning_rate': 0.09090490315427299, 'n_estimators': 717, 'subsample': 0.9714485604931828, 'colsample_bytree': 0.5256227279797877, 'scale_pos_weight': 2.7114733265703745}. Best is trial 15 with value: 0.9607843137254902.\n",
      "[I 2025-08-06 19:59:47,559] Trial 80 finished with value: 0.9339622641509434 and parameters: {'max_depth': 6, 'learning_rate': 0.07661357201551704, 'n_estimators': 788, 'subsample': 0.8305263659004027, 'colsample_bytree': 0.6373818047560009, 'scale_pos_weight': 2.1450644291025607}. Best is trial 15 with value: 0.9607843137254902.\n",
      "[I 2025-08-06 20:00:03,651] Trial 81 finished with value: 0.9514563106796117 and parameters: {'max_depth': 8, 'learning_rate': 0.05600643768079078, 'n_estimators': 984, 'subsample': 0.8651873834958657, 'colsample_bytree': 0.5862456159938378, 'scale_pos_weight': 2.0082764213787323}. Best is trial 15 with value: 0.9607843137254902.\n",
      "[I 2025-08-06 20:00:18,413] Trial 82 finished with value: 0.9428571428571428 and parameters: {'max_depth': 9, 'learning_rate': 0.06541132868866655, 'n_estimators': 970, 'subsample': 0.8849720481552634, 'colsample_bytree': 0.5468973822077191, 'scale_pos_weight': 3.8703935446553075}. Best is trial 15 with value: 0.9607843137254902.\n",
      "[I 2025-08-06 20:00:33,454] Trial 83 finished with value: 0.9603960396039604 and parameters: {'max_depth': 8, 'learning_rate': 0.05737217152656487, 'n_estimators': 888, 'subsample': 0.9117803991766912, 'colsample_bytree': 0.592279590604499, 'scale_pos_weight': 1.4362813821711775}. Best is trial 15 with value: 0.9607843137254902.\n",
      "[I 2025-08-06 20:00:49,581] Trial 84 finished with value: 0.9603960396039604 and parameters: {'max_depth': 8, 'learning_rate': 0.03179543922714393, 'n_estimators': 897, 'subsample': 0.9599647516606071, 'colsample_bytree': 0.5128782819616152, 'scale_pos_weight': 1.29588171787486}. Best is trial 15 with value: 0.9607843137254902.\n",
      "[I 2025-08-06 20:01:03,720] Trial 85 finished with value: 0.96 and parameters: {'max_depth': 10, 'learning_rate': 0.03215582085992681, 'n_estimators': 862, 'subsample': 0.9593270133266443, 'colsample_bytree': 0.5106475210108888, 'scale_pos_weight': 1.4164259742676537}. Best is trial 15 with value: 0.9607843137254902.\n",
      "[I 2025-08-06 20:01:22,178] Trial 86 finished with value: 0.9504950495049505 and parameters: {'max_depth': 10, 'learning_rate': 0.017435162514098615, 'n_estimators': 894, 'subsample': 0.957919376379206, 'colsample_bytree': 0.507317277646599, 'scale_pos_weight': 1.4737530618966739}. Best is trial 15 with value: 0.9607843137254902.\n",
      "[I 2025-08-06 20:01:38,288] Trial 87 finished with value: 0.941747572815534 and parameters: {'max_depth': 7, 'learning_rate': 0.029820520449226583, 'n_estimators': 859, 'subsample': 0.9853302144407006, 'colsample_bytree': 0.5146906556413301, 'scale_pos_weight': 2.761353908645586}. Best is trial 15 with value: 0.9607843137254902.\n",
      "[I 2025-08-06 20:01:53,211] Trial 88 finished with value: 0.9504950495049505 and parameters: {'max_depth': 10, 'learning_rate': 0.03256354747561365, 'n_estimators': 827, 'subsample': 0.6808383536549232, 'colsample_bytree': 0.5320856648283321, 'scale_pos_weight': 1.4541349931625094}. Best is trial 15 with value: 0.9607843137254902.\n",
      "[I 2025-08-06 20:02:07,628] Trial 89 finished with value: 0.941747572815534 and parameters: {'max_depth': 9, 'learning_rate': 0.04488792472528405, 'n_estimators': 855, 'subsample': 0.9458218902350982, 'colsample_bytree': 0.5682380541056805, 'scale_pos_weight': 2.1035415118211294}. Best is trial 15 with value: 0.9607843137254902.\n",
      "[I 2025-08-06 20:02:24,469] Trial 90 finished with value: 0.941747572815534 and parameters: {'max_depth': 8, 'learning_rate': 0.020881464122060774, 'n_estimators': 875, 'subsample': 0.9684293278305091, 'colsample_bytree': 0.5155882899158886, 'scale_pos_weight': 3.2414810790216224}. Best is trial 15 with value: 0.9607843137254902.\n",
      "[I 2025-08-06 20:02:38,801] Trial 91 finished with value: 0.9696969696969697 and parameters: {'max_depth': 11, 'learning_rate': 0.053605269193426015, 'n_estimators': 941, 'subsample': 0.9091121551644443, 'colsample_bytree': 0.5544119850670367, 'scale_pos_weight': 1.036182235177159}. Best is trial 91 with value: 0.9696969696969697.\n",
      "[I 2025-08-06 20:02:57,530] Trial 92 finished with value: 0.96 and parameters: {'max_depth': 11, 'learning_rate': 0.053402573395710626, 'n_estimators': 945, 'subsample': 0.9283044985440209, 'colsample_bytree': 0.5535372463221505, 'scale_pos_weight': 1.3595711819010958}. Best is trial 91 with value: 0.9696969696969697.\n",
      "[I 2025-08-06 20:03:14,562] Trial 93 finished with value: 0.9514563106796117 and parameters: {'max_depth': 12, 'learning_rate': 0.038343502138746814, 'n_estimators': 907, 'subsample': 0.9870650456983825, 'colsample_bytree': 0.5556946240778838, 'scale_pos_weight': 1.3098173596043219}. Best is trial 91 with value: 0.9696969696969697.\n",
      "[I 2025-08-06 20:03:32,216] Trial 94 finished with value: 0.9603960396039604 and parameters: {'max_depth': 11, 'learning_rate': 0.0639059942237029, 'n_estimators': 950, 'subsample': 0.9251518946041285, 'colsample_bytree': 0.6060386995699351, 'scale_pos_weight': 1.0298516154041888}. Best is trial 91 with value: 0.9696969696969697.\n",
      "[I 2025-08-06 20:03:51,300] Trial 95 finished with value: 0.9607843137254902 and parameters: {'max_depth': 11, 'learning_rate': 0.05319849510707397, 'n_estimators': 943, 'subsample': 0.9272687641838865, 'colsample_bytree': 0.6008653878468226, 'scale_pos_weight': 1.8600929525700631}. Best is trial 91 with value: 0.9696969696969697.\n",
      "[I 2025-08-06 20:04:09,549] Trial 96 finished with value: 0.9514563106796117 and parameters: {'max_depth': 11, 'learning_rate': 0.0531945313541287, 'n_estimators': 948, 'subsample': 0.9258386535313037, 'colsample_bytree': 0.6055022689033115, 'scale_pos_weight': 1.8094312820392249}. Best is trial 91 with value: 0.9696969696969697.\n",
      "[I 2025-08-06 20:04:31,876] Trial 97 finished with value: 0.9223300970873787 and parameters: {'max_depth': 11, 'learning_rate': 0.010499680632249216, 'n_estimators': 943, 'subsample': 0.9563219715172661, 'colsample_bytree': 0.9897266458409681, 'scale_pos_weight': 2.4475389803309096}. Best is trial 91 with value: 0.9696969696969697.\n",
      "[I 2025-08-06 20:04:52,519] Trial 98 finished with value: 0.9504950495049505 and parameters: {'max_depth': 12, 'learning_rate': 0.034296075811568766, 'n_estimators': 984, 'subsample': 0.9412938713363284, 'colsample_bytree': 0.6290569917097865, 'scale_pos_weight': 1.3409096058068437}. Best is trial 91 with value: 0.9696969696969697.\n",
      "[I 2025-08-06 20:05:06,917] Trial 99 finished with value: 0.9423076923076923 and parameters: {'max_depth': 11, 'learning_rate': 0.06741085357743946, 'n_estimators': 891, 'subsample': 0.9758204464210031, 'colsample_bytree': 0.5958819284434557, 'scale_pos_weight': 1.9195787050824988}. Best is trial 91 with value: 0.9696969696969697.\n"
     ]
    },
    {
     "name": "stdout",
     "output_type": "stream",
     "text": [
      "Best trial:\n",
      "  Value: 0.9696969696969697\n",
      "  Params: \n",
      "    max_depth: 11\n",
      "    learning_rate: 0.053605269193426015\n",
      "    n_estimators: 941\n",
      "    subsample: 0.9091121551644443\n",
      "    colsample_bytree: 0.5544119850670367\n",
      "    scale_pos_weight: 1.036182235177159\n"
     ]
    }
   ],
   "source": [
    "# Définir la fonction objectif\n",
    "def objective(trial):\n",
    "    # Définir les hyperparamètres à optimiser\n",
    "    params = {\n",
    "        'max_depth': trial.suggest_int(\"max_depth\", 3, 12),\n",
    "        'learning_rate': trial.suggest_float(\"learning_rate\", 0.01, 0.3),\n",
    "        'n_estimators': trial.suggest_int(\"n_estimators\", 100, 1000),\n",
    "        'subsample': trial.suggest_float(\"subsample\", 0.5, 1.0),\n",
    "        'colsample_bytree': trial.suggest_float(\"colsample_bytree\", 0.5, 1.0),\n",
    "        'scale_pos_weight': trial.suggest_float(\"scale_pos_weight\", 1, 20)\n",
    "    }\n",
    "\n",
    "\n",
    "    # Créer le modèle\n",
    "    model = XGBClassifier(**params)\n",
    "    model.fit(X_train,y_train)\n",
    "    y_pred = model.predict(X_test)\n",
    "\n",
    "    # Évaluer le modèle\n",
    "    #score = cross_val_score(model, X_train, y_train, n_jobs=-1, cv=3)\n",
    "    \n",
    "\n",
    "    return precision_score(y_test, y_pred)\n",
    "\n",
    "# Créer une étude\n",
    "study = optuna.create_study(direction='maximize')\n",
    "\n",
    "# Optimiser la fonction objectif\n",
    "study.optimize(objective, n_trials=100)\n",
    "\n",
    "# Afficher les résultats\n",
    "print(\"Best trial:\")\n",
    "trial = study.best_trial\n",
    "print(f\"  Value: {trial.value}\")\n",
    "print(\"  Params: \")\n",
    "for key, value in trial.params.items():\n",
    "    print(f\"    {key}: {value}\")"
   ]
  },
  {
   "cell_type": "code",
   "execution_count": 35,
   "metadata": {},
   "outputs": [
    {
     "name": "stdout",
     "output_type": "stream",
     "text": [
      "Precision: 0.970\n",
      "Recall: 0.780\n",
      "F1 Score: 0.865\n",
      "ROC_AUC Score: 0.890\n",
      "PR AUC: 0.757\n",
      "              precision    recall  f1-score   support\n",
      "\n",
      "           0      1.000     1.000     1.000     71079\n",
      "           1      0.970     0.780     0.865       123\n",
      "\n",
      "    accuracy                          1.000     71202\n",
      "   macro avg      0.985     0.890     0.932     71202\n",
      "weighted avg      1.000     1.000     1.000     71202\n",
      "\n",
      "------\n"
     ]
    }
   ],
   "source": [
    "best_params = study.best_params\n",
    "final_model = XGBClassifier(**best_params)\n",
    "final_model.fit(X_train, y_train)\n",
    "y_pred = final_model.predict(X_test)\n",
    "\n",
    "print(f\"Precision: {precision_score(y_test, y_pred):.3f}\")\n",
    "print(f\"Recall: {recall_score(y_test, y_pred):.3f}\")\n",
    "print(f\"F1 Score: {f1_score(y_test, y_pred):.3f}\")\n",
    "print(f\"ROC_AUC Score: {roc_auc_score(y_test, y_pred):.3f}\")\n",
    "print(f\"PR AUC: {average_precision_score(y_test, y_pred):.3f}\")\n",
    "print(classification_report(y_test, y_pred, digits=3))\n",
    "print(\"------\")"
   ]
  },
  {
   "cell_type": "code",
   "execution_count": 36,
   "metadata": {},
   "outputs": [
    {
     "data": {
      "image/png": "[encoded data removed]",
      "text/plain": [
       "<Figure size 500x500 with 2 Axes>"
      ]
     },
     "metadata": {},
     "output_type": "display_data"
    }
   ],
   "source": [
    "cm = pd.crosstab(y_test, y_pred, rownames=['Actual'], colnames=['Predicted'])\n",
    "fig, (ax1) = plt.subplots(ncols=1, figsize=(5,5))\n",
    "sn.heatmap(cm, \n",
    "            xticklabels=['Not Fraud', 'Fraud'],\n",
    "            yticklabels=['Not Fraud', 'Fraud'],\n",
    "            fmt='d',\n",
    "            annot=True,ax=ax1,\n",
    "            linewidths=.2,linecolor=\"Darkblue\", cmap=\"Blues\")\n",
    "plt.title('Confusion Matrix', fontsize=14)\n",
    "plt.show()"
   ]
  }
 ],
 "metadata": {
  "kernelspec": {
   "display_name": "Python (venv)",
   "language": "python",
   "name": "venv"
  },
  "language_info": {
   "codemirror_mode": {
    "name": "ipython",
    "version": 3
   },
   "file_extension": ".py",
   "mimetype": "text/x-python",
   "name": "python",
   "nbconvert_exporter": "python",
   "pygments_lexer": "ipython3",
   "version": "3.12.10"
  }
 },
 "nbformat": 4,
 "nbformat_minor": 4
}
